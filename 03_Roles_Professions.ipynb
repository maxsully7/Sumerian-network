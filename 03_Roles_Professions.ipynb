{
 "cells": [
  {
   "cell_type": "markdown",
   "metadata": {},
   "source": [
    "Note: This a notebook in progress"
   ]
  },
  {
   "cell_type": "markdown",
   "metadata": {},
   "source": [
    "# Getting Data "
   ]
  },
  {
   "cell_type": "markdown",
   "metadata": {},
   "source": [
    "Here I am importing BDTNS data that has been filtered to include Drehem data"
   ]
  },
  {
   "cell_type": "code",
   "execution_count": 8,
   "metadata": {},
   "outputs": [],
   "source": [
    "import pandas as pd\n",
    "PATH = \"filtered.csv\"\n",
    "filtered = pd.read_csv(PATH)"
   ]
  },
  {
   "cell_type": "code",
   "execution_count": 9,
   "metadata": {},
   "outputs": [
    {
     "data": {
      "text/html": [
       "<div>\n",
       "<style scoped>\n",
       "    .dataframe tbody tr th:only-of-type {\n",
       "        vertical-align: middle;\n",
       "    }\n",
       "\n",
       "    .dataframe tbody tr th {\n",
       "        vertical-align: top;\n",
       "    }\n",
       "\n",
       "    .dataframe thead th {\n",
       "        text-align: right;\n",
       "    }\n",
       "</style>\n",
       "<table border=\"1\" class=\"dataframe\">\n",
       "  <thead>\n",
       "    <tr style=\"text-align: right;\">\n",
       "      <th></th>\n",
       "      <th>Unnamed: 0</th>\n",
       "      <th>lemma</th>\n",
       "      <th>id_text</th>\n",
       "      <th>id_line</th>\n",
       "      <th>id_word</th>\n",
       "      <th>label</th>\n",
       "    </tr>\n",
       "  </thead>\n",
       "  <tbody>\n",
       "    <tr>\n",
       "      <th>0</th>\n",
       "      <td>0</td>\n",
       "      <td>3(diš)[]NU</td>\n",
       "      <td>epsd2/admin/u3adm/P124149</td>\n",
       "      <td>3</td>\n",
       "      <td>P124149.3.1</td>\n",
       "      <td>o 1</td>\n",
       "    </tr>\n",
       "    <tr>\n",
       "      <th>1</th>\n",
       "      <td>1</td>\n",
       "      <td>udu[sheep]N</td>\n",
       "      <td>epsd2/admin/u3adm/P124149</td>\n",
       "      <td>3</td>\n",
       "      <td>P124149.3.2</td>\n",
       "      <td>o 1</td>\n",
       "    </tr>\n",
       "    <tr>\n",
       "      <th>2</th>\n",
       "      <td>2</td>\n",
       "      <td>6(diš)[]NU</td>\n",
       "      <td>epsd2/admin/u3adm/P124149</td>\n",
       "      <td>4</td>\n",
       "      <td>P124149.4.1</td>\n",
       "      <td>o 2</td>\n",
       "    </tr>\n",
       "    <tr>\n",
       "      <th>3</th>\n",
       "      <td>3</td>\n",
       "      <td>u[ewe]N</td>\n",
       "      <td>epsd2/admin/u3adm/P124149</td>\n",
       "      <td>4</td>\n",
       "      <td>P124149.4.2</td>\n",
       "      <td>o 2</td>\n",
       "    </tr>\n",
       "    <tr>\n",
       "      <th>4</th>\n",
       "      <td>4</td>\n",
       "      <td>2(diš)[]NU</td>\n",
       "      <td>epsd2/admin/u3adm/P124149</td>\n",
       "      <td>5</td>\n",
       "      <td>P124149.5.1</td>\n",
       "      <td>o 3</td>\n",
       "    </tr>\n",
       "  </tbody>\n",
       "</table>\n",
       "</div>"
      ],
      "text/plain": [
       "   Unnamed: 0        lemma                    id_text  id_line      id_word  \\\n",
       "0           0   3(diš)[]NU  epsd2/admin/u3adm/P124149        3  P124149.3.1   \n",
       "1           1  udu[sheep]N  epsd2/admin/u3adm/P124149        3  P124149.3.2   \n",
       "2           2   6(diš)[]NU  epsd2/admin/u3adm/P124149        4  P124149.4.1   \n",
       "3           3      u[ewe]N  epsd2/admin/u3adm/P124149        4  P124149.4.2   \n",
       "4           4   2(diš)[]NU  epsd2/admin/u3adm/P124149        5  P124149.5.1   \n",
       "\n",
       "  label  \n",
       "0   o 1  \n",
       "1   o 1  \n",
       "2   o 2  \n",
       "3   o 2  \n",
       "4   o 3  "
      ]
     },
     "execution_count": 9,
     "metadata": {},
     "output_type": "execute_result"
    }
   ],
   "source": [
    "filtered.head(5)"
   ]
  },
  {
   "cell_type": "markdown",
   "metadata": {},
   "source": [
    "# Identifying People"
   ]
  },
  {
   "cell_type": "markdown",
   "metadata": {},
   "source": [
    "Here, I create a dictionary with all the PN as keys. The values are dictionaries that contain profession and role mappings. In the future, I will add professions and roles to the PNs. The goal of this notebook is to finally have a csv with three columns for PN, associated role, and associated profession respectively. "
   ]
  },
  {
   "cell_type": "code",
   "execution_count": 10,
   "metadata": {},
   "outputs": [],
   "source": [
    "people = dict()\n",
    "for row in filtered.itertuples():\n",
    "    if 'PN' in row.lemma:\n",
    "        people[(row.lemma, row.id_word)] = dict()"
   ]
  },
  {
   "cell_type": "code",
   "execution_count": 11,
   "metadata": {},
   "outputs": [],
   "source": [
    "#sanity check\n",
    "#print(people.keys())"
   ]
  },
  {
   "cell_type": "markdown",
   "metadata": {},
   "source": [
    "# Generate List of Professions Based on Location"
   ]
  },
  {
   "cell_type": "markdown",
   "metadata": {},
   "source": [
    "Here I have a list of professions that was retrieved from external sources:.\n",
    "\n",
    "SOURCE: URAP meeting notes"
   ]
  },
  {
   "cell_type": "code",
   "execution_count": 12,
   "metadata": {},
   "outputs": [],
   "source": [
    "\n",
    "professions = [ \"aʾigidu[worker]\", \n",
    "                \"abala[water-drawer]\", \n",
    "                \"abrig[functionary]\", \n",
    "                \"ad.KID[weaver]\", \n",
    "                \"agaʾus[soldier]\",\n",
    "                \"arad[slave]\",\n",
    "                \"ašgab[leatherworker]\",\n",
    "                \"aʾua [musician]\", \n",
    "                \"azlag[fuller]\",\n",
    "                \"bahar[potter]\",\n",
    "                \"bisaŋdubak[archivist]\",\n",
    "                \"damgar[merchant]\",\n",
    "                \"dikud[judge]\",\n",
    "                \"dubsar[scribe]\",\n",
    "                \"en[priest]\",\n",
    "                \"erešdiŋir[priestess]\",\n",
    "                \"ensik[ruler]\",\n",
    "                \"engar[farmer]\",\n",
    "                \"enkud[tax-collector]\",\n",
    "                \"gabaʾaš[courier]\",\n",
    "                \"galamah[singer]\",\n",
    "                \"gala[singer]\",\n",
    "                \"geme[worker]\",\n",
    "                \"gudug[priest]\",\n",
    "                \"guzala[official]\",\n",
    "                \"idu[doorkeeper]\",\n",
    "                \"išib[priest]\",\n",
    "                \"kaguruk[supervisor]\",\n",
    "                \"kaš[runner]\",\n",
    "                \"kiŋgia[messenger]\",\n",
    "                \"kinda[barber]\", \n",
    "                \"kinkin[miller]\",\n",
    "                \"kiridab[driver]\", \n",
    "                \"kurušda[fattener]\", \n",
    "                \"kuš[official]\",\n",
    "                \"lu[person]\",\n",
    "                \"lugal[king]\",\n",
    "                \"lukur[priestess]\",\n",
    "                \"lungak[brewer]\",\n",
    "                \"malah[sailor]\",\n",
    "                \"muhaldim[cook]\",\n",
    "                \"mušendu[bird-catcher]\",\n",
    "                \"nagada[herdsman]\",\n",
    "                \"nagar[carpenter]\",\n",
    "                \"nar[musician]\",\n",
    "                \"nargal[musician]\", \n",
    "                \"narsa[musician]\", \n",
    "                \"nin[lady]\",\n",
    "                \"nubanda[overseer]\",\n",
    "                \"nukirik[horticulturalist]\",\n",
    "                \"saŋ.DUN₃[recorder]\",\n",
    "                \"saŋŋa[official]\",\n",
    "                \"simug[smith]\",\n",
    "                \"sipad[shepherd]\",\n",
    "                \"sukkal[secretary]\",\n",
    "                \"šabra[administrator]\",\n",
    "                \"šagia[cup-bearer]\",\n",
    "                \"šakkanak[general]\",\n",
    "                # \"szej[cook]\", this is a verb\n",
    "                \"šidim[builder]\",\n",
    "                \"šuʾi[barber]\",\n",
    "                \"šukud[fisherman]\",\n",
    "                \"tibira[sculptor]\",\n",
    "                \"ugula[overseer]\",\n",
    "                \"unud[cowherd]\",\n",
    "                # \"urin[guard]\",\n",
    "                \"UN.IL₂[menial]\",\n",
    "                \"ušbar[weaver]\",\n",
    "                \"zabardab[official]\",\n",
    "                \"zadim[stone-cutter]\"]\n",
    "\n",
    "profession_counts = { i : 0 for i in professions }"
   ]
  },
  {
   "cell_type": "markdown",
   "metadata": {},
   "source": [
    "If previous word is a 'PN' and the current word matches a profession, I'll add that profession to the PN. The commented out parts are from when I tried to generate my own list of professions. "
   ]
  },
  {
   "cell_type": "code",
   "execution_count": 13,
   "metadata": {},
   "outputs": [],
   "source": [
    "import re\n",
    "\n",
    "prev_row = None\n",
    "for row in filtered.itertuples():\n",
    "        if prev_row != None and 'PN' in prev_row.lemma and (re.match('^[^\\]]*', row.lemma)[0] + \"]\") in professions:\n",
    "                profession_counts[(re.match('^[^\\]]*', row.lemma)[0] + \"]\")] += 1\n",
    "                people[(prev_row.lemma, prev_row.id_word)]['profession'] = row.lemma\n",
    "        prev_row = row\n",
    "        \n",
    "        \n",
    "english = set()\n",
    "\n",
    "#for word in words:\n",
    "    #to get only english use this one\n",
    "    #english.append((re.search('\\[(.*?)\\]', str(word)).group()))\n",
    " #   english.add(word[0])\n",
    "\n",
    "#print(len(english))\n",
    "\n",
    "#for val in set(english):\n",
    " #   print(val[1:-1])\n",
    "\n",
    "#Since this is related to the n-neighbors, this CSV is later on used in the neighbors notebook\n",
    "pd.DataFrame(list(english)).to_csv('words_after_PN.csv', index = False)"
   ]
  },
  {
   "cell_type": "code",
   "execution_count": 29,
   "metadata": {},
   "outputs": [
    {
     "data": {
      "text/html": [
       "<div>\n",
       "<style scoped>\n",
       "    .dataframe tbody tr th:only-of-type {\n",
       "        vertical-align: middle;\n",
       "    }\n",
       "\n",
       "    .dataframe tbody tr th {\n",
       "        vertical-align: top;\n",
       "    }\n",
       "\n",
       "    .dataframe thead th {\n",
       "        text-align: right;\n",
       "    }\n",
       "</style>\n",
       "<table border=\"1\" class=\"dataframe\">\n",
       "  <thead>\n",
       "    <tr style=\"text-align: right;\">\n",
       "      <th></th>\n",
       "      <th>Percentages</th>\n",
       "    </tr>\n",
       "  </thead>\n",
       "  <tbody>\n",
       "    <tr>\n",
       "      <th>aʾigidu[worker]</th>\n",
       "      <td>0</td>\n",
       "    </tr>\n",
       "    <tr>\n",
       "      <th>abala[water-drawer]</th>\n",
       "      <td>0</td>\n",
       "    </tr>\n",
       "    <tr>\n",
       "      <th>abrig[functionary]</th>\n",
       "      <td>0</td>\n",
       "    </tr>\n",
       "    <tr>\n",
       "      <th>ad.KID[weaver]</th>\n",
       "      <td>1</td>\n",
       "    </tr>\n",
       "    <tr>\n",
       "      <th>agaʾus[soldier]</th>\n",
       "      <td>55</td>\n",
       "    </tr>\n",
       "  </tbody>\n",
       "</table>\n",
       "</div>"
      ],
      "text/plain": [
       "                     Percentages\n",
       "aʾigidu[worker]                0\n",
       "abala[water-drawer]            0\n",
       "abrig[functionary]             0\n",
       "ad.KID[weaver]                 1\n",
       "agaʾus[soldier]               55"
      ]
     },
     "execution_count": 29,
     "metadata": {},
     "output_type": "execute_result"
    }
   ],
   "source": [
    "pd.DataFrame.from_dict(profession_counts, orient='index', columns=['Percentages']).head()"
   ]
  },
  {
   "cell_type": "code",
   "execution_count": 30,
   "metadata": {},
   "outputs": [
    {
     "data": {
      "text/html": [
       "<div>\n",
       "<style scoped>\n",
       "    .dataframe tbody tr th:only-of-type {\n",
       "        vertical-align: middle;\n",
       "    }\n",
       "\n",
       "    .dataframe tbody tr th {\n",
       "        vertical-align: top;\n",
       "    }\n",
       "\n",
       "    .dataframe thead th {\n",
       "        text-align: right;\n",
       "    }\n",
       "</style>\n",
       "<table border=\"1\" class=\"dataframe\">\n",
       "  <thead>\n",
       "    <tr style=\"text-align: right;\">\n",
       "      <th></th>\n",
       "      <th>Percentage</th>\n",
       "    </tr>\n",
       "  </thead>\n",
       "  <tbody>\n",
       "    <tr>\n",
       "      <th>aʾigidu[worker]</th>\n",
       "      <td>0.000000</td>\n",
       "    </tr>\n",
       "    <tr>\n",
       "      <th>abala[water-drawer]</th>\n",
       "      <td>0.000000</td>\n",
       "    </tr>\n",
       "    <tr>\n",
       "      <th>abrig[functionary]</th>\n",
       "      <td>0.000000</td>\n",
       "    </tr>\n",
       "    <tr>\n",
       "      <th>ad.KID[weaver]</th>\n",
       "      <td>0.000100</td>\n",
       "    </tr>\n",
       "    <tr>\n",
       "      <th>agaʾus[soldier]</th>\n",
       "      <td>0.005486</td>\n",
       "    </tr>\n",
       "    <tr>\n",
       "      <th>arad[slave]</th>\n",
       "      <td>0.037702</td>\n",
       "    </tr>\n",
       "    <tr>\n",
       "      <th>ašgab[leatherworker]</th>\n",
       "      <td>0.000199</td>\n",
       "    </tr>\n",
       "    <tr>\n",
       "      <th>aʾua [musician]</th>\n",
       "      <td>0.000000</td>\n",
       "    </tr>\n",
       "    <tr>\n",
       "      <th>azlag[fuller]</th>\n",
       "      <td>0.000100</td>\n",
       "    </tr>\n",
       "    <tr>\n",
       "      <th>bahar[potter]</th>\n",
       "      <td>0.000000</td>\n",
       "    </tr>\n",
       "    <tr>\n",
       "      <th>bisaŋdubak[archivist]</th>\n",
       "      <td>0.001596</td>\n",
       "    </tr>\n",
       "    <tr>\n",
       "      <th>damgar[merchant]</th>\n",
       "      <td>0.006483</td>\n",
       "    </tr>\n",
       "    <tr>\n",
       "      <th>dikud[judge]</th>\n",
       "      <td>0.003192</td>\n",
       "    </tr>\n",
       "    <tr>\n",
       "      <th>dubsar[scribe]</th>\n",
       "      <td>0.196689</td>\n",
       "    </tr>\n",
       "    <tr>\n",
       "      <th>en[priest]</th>\n",
       "      <td>0.014562</td>\n",
       "    </tr>\n",
       "  </tbody>\n",
       "</table>\n",
       "</div>"
      ],
      "text/plain": [
       "                       Percentage\n",
       "aʾigidu[worker]          0.000000\n",
       "abala[water-drawer]      0.000000\n",
       "abrig[functionary]       0.000000\n",
       "ad.KID[weaver]           0.000100\n",
       "agaʾus[soldier]          0.005486\n",
       "arad[slave]              0.037702\n",
       "ašgab[leatherworker]     0.000199\n",
       "aʾua [musician]          0.000000\n",
       "azlag[fuller]            0.000100\n",
       "bahar[potter]            0.000000\n",
       "bisaŋdubak[archivist]    0.001596\n",
       "damgar[merchant]         0.006483\n",
       "dikud[judge]             0.003192\n",
       "dubsar[scribe]           0.196689\n",
       "en[priest]               0.014562"
      ]
     },
     "execution_count": 30,
     "metadata": {},
     "output_type": "execute_result"
    }
   ],
   "source": [
    "total = sum(profession_counts.values())\n",
    "profession_percentages = { i : profession_counts[i]/total for i in profession_counts}\n",
    "percentage_df = pd.DataFrame.from_dict(profession_percentages, orient='index', columns=['Percentage'])\n",
    "percentage_df.head(15)"
   ]
  },
  {
   "cell_type": "markdown",
   "metadata": {},
   "source": []
  },
  {
   "cell_type": "markdown",
   "metadata": {},
   "source": [
    "# Finding Roles"
   ]
  },
  {
   "cell_type": "markdown",
   "metadata": {},
   "source": [
    "More information on keywords can be found here:\n",
    "https://github.com/niekveldhuis/Sumerian-network/blob/master/Finding%20Merging%20Roles%20and%20Professions/roles_and_keywords.md "
   ]
  },
  {
   "cell_type": "code",
   "execution_count": 31,
   "metadata": {},
   "outputs": [],
   "source": [
    "import re\n",
    "def match_ki_ta():\n",
    "    prev_row = None\n",
    "    i=0\n",
    "    words = []\n",
    "    for row in filtered.itertuples():\n",
    "        if re.match(r\".+ta\\[\\]PN\", row.lemma) and 'ki[place]N' in prev_row:\n",
    "            words.append((row.lemma, row.id_word))\n",
    "            i+=1\n",
    "        prev_row = row\n",
    "    print('Number of roles found:', i)\n",
    "    return (words, i)\n",
    "\n",
    "\n",
    "def find_keyword_prev(keyword):\n",
    "    prev_row = None\n",
    "    i=0\n",
    "    words = []\n",
    "    for row in filtered.itertuples():\n",
    "        if prev_row != None and keyword in row.lemma and 'PN' in prev_row.lemma:\n",
    "            words.append((prev_row.lemma, prev_row.id_word))\n",
    "            i+=1\n",
    "        prev_row = row\n",
    "    print('Number of roles found:', i)\n",
    "    return (words, i)\n",
    "    \n",
    "def find_keyword_next(keyword):\n",
    "    prev_row = None\n",
    "    i=0\n",
    "    words = []\n",
    "    for row in filtered.itertuples():\n",
    "        if prev_row != None and keyword in prev_row.lemma and 'PN' in row.lemma:\n",
    "            words.append((row.lemma, row.id_word))\n",
    "            i+=1\n",
    "        prev_row = row\n",
    "    print('Number of roles found:', i)\n",
    "    return (words, i)"
   ]
  },
  {
   "cell_type": "markdown",
   "metadata": {},
   "source": [
    "Creating a dictionary that maps roles to count of those roles"
   ]
  },
  {
   "cell_type": "code",
   "execution_count": 35,
   "metadata": {},
   "outputs": [],
   "source": [
    "role_counts = dict()"
   ]
  },
  {
   "cell_type": "markdown",
   "metadata": {},
   "source": [
    "1. Matching rows that have 'ki[place]N' in previous cell and '-ta' in current"
   ]
  },
  {
   "cell_type": "code",
   "execution_count": 36,
   "metadata": {},
   "outputs": [
    {
     "name": "stdout",
     "output_type": "stream",
     "text": [
      "Number of roles found: 9284\n",
      "Number of roles found: 9284\n"
     ]
    }
   ],
   "source": [
    "#source\n",
    "for person, id_w in match_ki_ta()[0]:\n",
    "    try:\n",
    "        people[(person, id_w)]['role'] = 'source'\n",
    "    except:\n",
    "        print(person, id_w)\n",
    "        \n",
    "role_counts['source'] = match_ki_ta()[1]"
   ]
  },
  {
   "cell_type": "markdown",
   "metadata": {},
   "source": [
    "2. Matching rows that have 'dab[seize]V/t' in lemmatization"
   ]
  },
  {
   "cell_type": "code",
   "execution_count": 37,
   "metadata": {},
   "outputs": [
    {
     "name": "stdout",
     "output_type": "stream",
     "text": [
      "Number of roles found: 5102\n"
     ]
    }
   ],
   "source": [
    "res = find_keyword_prev('dab[seize]V/t')\n",
    "for (person, id_w) in res[0]:\n",
    "    try:\n",
    "        people[(person, id_w)]['role'] = 'recipient'\n",
    "    except:\n",
    "        print(person, id_w)\n",
    "        \n",
    "role_counts['recipient'] = res[1]"
   ]
  },
  {
   "cell_type": "markdown",
   "metadata": {},
   "source": [
    "3. Matching rows that have 'mu.DU[delivery]N' in next cell"
   ]
  },
  {
   "cell_type": "code",
   "execution_count": 38,
   "metadata": {},
   "outputs": [
    {
     "name": "stdout",
     "output_type": "stream",
     "text": [
      "Number of roles found: 2304\n"
     ]
    }
   ],
   "source": [
    "# new owner\n",
    "res = find_keyword_next('mu.DU[delivery]N')\n",
    "for (person, id_w) in res[0]:\n",
    "    try:\n",
    "        people[(person, id_w)]['role'] = 'new owner'\n",
    "    except:\n",
    "        print((person, id_w))\n",
    "        \n",
    "role_counts['new owner'] = res[1]"
   ]
  },
  {
   "cell_type": "markdown",
   "metadata": {},
   "source": [
    "4. Matching rows that have 'šu[hand]N' in next cell"
   ]
  },
  {
   "cell_type": "code",
   "execution_count": 39,
   "metadata": {},
   "outputs": [
    {
     "name": "stdout",
     "output_type": "stream",
     "text": [
      "Number of roles found: 2594\n"
     ]
    }
   ],
   "source": [
    "res = find_keyword_prev('šu[hand]N')\n",
    "for (person, id_w) in res[0]:\n",
    "    try:\n",
    "        people[(person, id_w)]['role'] = 'recipient'\n",
    "    except:\n",
    "        print(person, id_w)\n",
    "role_counts['recipient'] += res[1]"
   ]
  },
  {
   "cell_type": "markdown",
   "metadata": {},
   "source": [
    "5. Matching rows that have 'ŋiri[foot]N' in next cell"
   ]
  },
  {
   "cell_type": "code",
   "execution_count": 40,
   "metadata": {},
   "outputs": [
    {
     "name": "stdout",
     "output_type": "stream",
     "text": [
      "Number of roles found: 3154\n"
     ]
    }
   ],
   "source": [
    "res = find_keyword_next('ŋiri[foot]N')\n",
    "for (person, id_w) in res[0]:\n",
    "    try:\n",
    "        people[(person, id_w)]['role'] = 'intermediary'\n",
    "    except:\n",
    "        print((person, id_w))\n",
    "        \n",
    "role_counts['intermediary'] = res[1]        "
   ]
  },
  {
   "cell_type": "markdown",
   "metadata": {},
   "source": [
    "6. Looks for rows with 'maškim' in previous spot"
   ]
  },
  {
   "cell_type": "code",
   "execution_count": 41,
   "metadata": {},
   "outputs": [
    {
     "name": "stdout",
     "output_type": "stream",
     "text": [
      "Number of roles found: 2072\n"
     ]
    }
   ],
   "source": [
    "res = find_keyword_prev('maškim[administrator]N')\n",
    "for (person, id_w) in res[0]:\n",
    "    try:\n",
    "        people[(person, id_w)]['role'] = 'representative'\n",
    "    except:\n",
    "        print((person, id_w))\n",
    "        \n",
    "role_counts['representative'] = res[1]      "
   ]
  },
  {
   "cell_type": "markdown",
   "metadata": {},
   "source": [
    "7. Looking for PNs before and after 'zig[rise]V/i'"
   ]
  },
  {
   "cell_type": "code",
   "execution_count": 42,
   "metadata": {},
   "outputs": [
    {
     "name": "stdout",
     "output_type": "stream",
     "text": [
      "Number of roles found: 12\n"
     ]
    }
   ],
   "source": [
    "res = find_keyword_next('zig[rise]V/i')\n",
    "for (person, id_w) in res[0]:\n",
    "    try:\n",
    "        people[(person, id_w)]['role'] = 'source'\n",
    "    except:\n",
    "        print((person, id_w))\n",
    "        \n",
    "role_counts['source'] += res[1]"
   ]
  },
  {
   "cell_type": "code",
   "execution_count": 43,
   "metadata": {},
   "outputs": [
    {
     "name": "stdout",
     "output_type": "stream",
     "text": [
      "Number of roles found: 2383\n"
     ]
    }
   ],
   "source": [
    "res = find_keyword_prev('zig[rise]V/i')\n",
    "for (person, id_w) in res[0]:\n",
    "    try:\n",
    "        people[(person, id_w)]['role'] = 'source'\n",
    "    except:\n",
    "        print((person, id_w))\n",
    "        \n",
    "role_counts['source'] += res[1]"
   ]
  },
  {
   "cell_type": "markdown",
   "metadata": {},
   "source": [
    "This is every PN mentioned in the filtered texts"
   ]
  },
  {
   "cell_type": "code",
   "execution_count": 24,
   "metadata": {},
   "outputs": [
    {
     "data": {
      "text/plain": [
       "46126"
      ]
     },
     "execution_count": 24,
     "metadata": {},
     "output_type": "execute_result"
    }
   ],
   "source": [
    "len(people.keys())"
   ]
  },
  {
   "cell_type": "code",
   "execution_count": 25,
   "metadata": {},
   "outputs": [
    {
     "data": {
      "text/html": [
       "<div>\n",
       "<style scoped>\n",
       "    .dataframe tbody tr th:only-of-type {\n",
       "        vertical-align: middle;\n",
       "    }\n",
       "\n",
       "    .dataframe tbody tr th {\n",
       "        vertical-align: top;\n",
       "    }\n",
       "\n",
       "    .dataframe thead th {\n",
       "        text-align: right;\n",
       "    }\n",
       "</style>\n",
       "<table border=\"1\" class=\"dataframe\">\n",
       "  <thead>\n",
       "    <tr style=\"text-align: right;\">\n",
       "      <th></th>\n",
       "      <th>0</th>\n",
       "      <th>1</th>\n",
       "    </tr>\n",
       "  </thead>\n",
       "  <tbody>\n",
       "    <tr>\n",
       "      <th>0</th>\n",
       "      <td>({d}šul-gi-a-a-mu-ta[]PN, P405489.12.2)</td>\n",
       "      <td>{'role': 'source'}</td>\n",
       "    </tr>\n",
       "    <tr>\n",
       "      <th>1</th>\n",
       "      <td>({d}šul-gi-iri-mu[]PN, P405489.13.1)</td>\n",
       "      <td>{'role': 'recipient'}</td>\n",
       "    </tr>\n",
       "    <tr>\n",
       "      <th>2</th>\n",
       "      <td>({d}utu-ba-ni[]PN, P332036.11.1)</td>\n",
       "      <td>{}</td>\n",
       "    </tr>\n",
       "    <tr>\n",
       "      <th>3</th>\n",
       "      <td>(dingir-ki-ma-at[]PN, P332036.19.3)</td>\n",
       "      <td>{}</td>\n",
       "    </tr>\n",
       "  </tbody>\n",
       "</table>\n",
       "</div>"
      ],
      "text/plain": [
       "                                         0                      1\n",
       "0  ({d}šul-gi-a-a-mu-ta[]PN, P405489.12.2)     {'role': 'source'}\n",
       "1     ({d}šul-gi-iri-mu[]PN, P405489.13.1)  {'role': 'recipient'}\n",
       "2         ({d}utu-ba-ni[]PN, P332036.11.1)                     {}\n",
       "3      (dingir-ki-ma-at[]PN, P332036.19.3)                     {}"
      ]
     },
     "execution_count": 25,
     "metadata": {},
     "output_type": "execute_result"
    }
   ],
   "source": [
    "people_df = pd.DataFrame(list(people.items()))\n",
    "people_df.head(4)"
   ]
  },
  {
   "cell_type": "markdown",
   "metadata": {},
   "source": [
    "# Transfer to CSV"
   ]
  },
  {
   "cell_type": "code",
   "execution_count": 48,
   "metadata": {},
   "outputs": [],
   "source": [
    "name_word = pd.DataFrame(people_df[0].values.tolist(), index=people_df.index, columns = ['Name', 'id_word'])\n",
    "final = name_word.join(people_df.drop(people_df.columns[0], axis = 1))\n",
    "\n",
    "final = pd.concat([final.drop([1], axis=1), final[1].apply(pd.Series)], axis=1)"
   ]
  },
  {
   "cell_type": "code",
   "execution_count": 49,
   "metadata": {},
   "outputs": [],
   "source": [
    "\n",
    "final.to_csv('roles_professions.csv')"
   ]
  },
  {
   "cell_type": "code",
   "execution_count": 28,
   "metadata": {},
   "outputs": [
    {
     "data": {
      "text/plain": [
       "[('a-hu-ni[]PN', 'P330639.17.1'),\n",
       " ('šagia[cup-bearer]N', 'P330639.17.2'),\n",
       " ('maškim[administrator]N', 'P330639.17.3')]"
      ]
     },
     "execution_count": 28,
     "metadata": {},
     "output_type": "execute_result"
    }
   ],
   "source": [
    "#TODO: need to deal with case when PN not right next to role\n",
    "[(row.lemma, row.id_word) for row in filtered.itertuples() if 'P330639.17' in row.id_word]"
   ]
  },
  {
   "cell_type": "markdown",
   "metadata": {},
   "source": [
    "# Analyzing Roles and Professions"
   ]
  },
  {
   "cell_type": "markdown",
   "metadata": {},
   "source": [
    "Here we analyze percentages of roles. Previously we created a dataframe for percentages of professions"
   ]
  },
  {
   "cell_type": "code",
   "execution_count": 46,
   "metadata": {},
   "outputs": [
    {
     "name": "stdout",
     "output_type": "stream",
     "text": [
      "{'source': 0.43408288422226354, 'recipient': 0.2860434863408288, 'new owner': 0.08563464040141237, 'intermediary': 0.11722728117450289, 'representative': 0.07701170786099239}\n"
     ]
    },
    {
     "data": {
      "text/html": [
       "<div>\n",
       "<style scoped>\n",
       "    .dataframe tbody tr th:only-of-type {\n",
       "        vertical-align: middle;\n",
       "    }\n",
       "\n",
       "    .dataframe tbody tr th {\n",
       "        vertical-align: top;\n",
       "    }\n",
       "\n",
       "    .dataframe thead th {\n",
       "        text-align: right;\n",
       "    }\n",
       "</style>\n",
       "<table border=\"1\" class=\"dataframe\">\n",
       "  <thead>\n",
       "    <tr style=\"text-align: right;\">\n",
       "      <th></th>\n",
       "      <th>Percentages</th>\n",
       "    </tr>\n",
       "  </thead>\n",
       "  <tbody>\n",
       "    <tr>\n",
       "      <th>source</th>\n",
       "      <td>0.434083</td>\n",
       "    </tr>\n",
       "    <tr>\n",
       "      <th>recipient</th>\n",
       "      <td>0.286043</td>\n",
       "    </tr>\n",
       "    <tr>\n",
       "      <th>new owner</th>\n",
       "      <td>0.085635</td>\n",
       "    </tr>\n",
       "    <tr>\n",
       "      <th>intermediary</th>\n",
       "      <td>0.117227</td>\n",
       "    </tr>\n",
       "    <tr>\n",
       "      <th>representative</th>\n",
       "      <td>0.077012</td>\n",
       "    </tr>\n",
       "  </tbody>\n",
       "</table>\n",
       "</div>"
      ],
      "text/plain": [
       "                Percentages\n",
       "source             0.434083\n",
       "recipient          0.286043\n",
       "new owner          0.085635\n",
       "intermediary       0.117227\n",
       "representative     0.077012"
      ]
     },
     "execution_count": 46,
     "metadata": {},
     "output_type": "execute_result"
    }
   ],
   "source": [
    "#role percentages\n",
    "\n",
    "total = sum(role_counts.values())\n",
    "role_counts.update((k,role_counts[k]/total) for k in role_counts)\n",
    "print(role_counts)\n",
    "pd.DataFrame.from_dict(role_counts, orient='index', columns=['Percentages'])"
   ]
  },
  {
   "cell_type": "markdown",
   "metadata": {},
   "source": [
    "future steps: merge with BDTNS dates? + n-neighbors data?"
   ]
  },
  {
   "cell_type": "code",
   "execution_count": null,
   "metadata": {},
   "outputs": [],
   "source": []
  },
  {
   "cell_type": "code",
   "execution_count": null,
   "metadata": {},
   "outputs": [],
   "source": []
  }
 ],
 "metadata": {
  "kernelspec": {
   "display_name": "Python 3",
   "language": "python",
   "name": "python3"
  },
  "language_info": {
   "codemirror_mode": {
    "name": "ipython",
    "version": 3
   },
   "file_extension": ".py",
   "mimetype": "text/x-python",
   "name": "python",
   "nbconvert_exporter": "python",
   "pygments_lexer": "ipython3",
   "version": "3.6.5"
  }
 },
 "nbformat": 4,
 "nbformat_minor": 2
}
