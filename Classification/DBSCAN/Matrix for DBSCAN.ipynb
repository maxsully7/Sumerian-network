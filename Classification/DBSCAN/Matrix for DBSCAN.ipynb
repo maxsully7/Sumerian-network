{
 "cells": [
  {
   "cell_type": "code",
   "execution_count": 1,
   "metadata": {
    "collapsed": false
   },
   "outputs": [],
   "source": [
    "import pandas as pd\n",
    "import numpy as np\n",
    "from sklearn.cluster import DBSCAN\n",
    "from sklearn.impute import SimpleImputer\n",
    "# import preprocessing from sklearn\n",
    "from sklearn import preprocessing"
   ]
  },
  {
   "cell_type": "code",
   "execution_count": 2,
   "metadata": {
    "collapsed": false
   },
   "outputs": [
    {
     "name": "stderr",
     "output_type": "stream",
     "text": [
      "/Users/babybear68/anaconda/lib/python3.5/site-packages/IPython/core/interactiveshell.py:2717: DtypeWarning: Columns (6) have mixed types. Specify dtype option on import or set low_memory=False.\n",
      "  interactivity=interactivity, compiler=compiler, result=result)\n"
     ]
    }
   ],
   "source": [
    "# people = pd.read_csv(\"people_Drehem.csv\")\n",
    "people = pd.read_csv(\"Graph Representation/people_and_target.csv\")\n",
    "archives = pd.read_csv(\"archive_map.csv\")\n",
    "archives['PID'] = [int(archives['PID'][i][1:]) for i in np.arange(len(archives['PID']))]\n",
    "people = pd.merge(people, archives, how='inner', left_on='p index', right_on='PID')\n",
    "people = people.drop(['Unnamed: 0', 'Unnamed: 0.1','PID', 'normalized name', 'family', 'date name', 'p index', 'Archive_y'], axis=1).rename(index=str, columns={'Archive_x': 'Archive'})\n",
    "people = people.sort_values(['name'])"
   ]
  },
  {
   "cell_type": "code",
   "execution_count": 3,
   "metadata": {
    "collapsed": false
   },
   "outputs": [],
   "source": [
    "#For now, I am dropping rows that have missing values, since DBSCAN only works when there are no NANs\n",
    "# people = people.dropna()"
   ]
  },
  {
   "cell_type": "markdown",
   "metadata": {},
   "source": [
    "Our people dataframe contains columns for the variables we want to use on our clustering algorithm. Our next step is to convert our categorical data into numerical data. We can do this by creating a binary matrix. "
   ]
  },
  {
   "cell_type": "code",
   "execution_count": 4,
   "metadata": {
    "collapsed": false
   },
   "outputs": [],
   "source": [
    "# people_cat = people.select_dtypes(include=[object])\n",
    "# people_cat['profession'] = people_cat['profession'].astype(str)\n",
    "# people_cat['roles'] = people_cat['roles'].astype(str)\n",
    "# people_cat.head(3)"
   ]
  },
  {
   "cell_type": "code",
   "execution_count": 5,
   "metadata": {
    "collapsed": false
   },
   "outputs": [],
   "source": [
    "imp = SimpleImputer(missing_values=np.nan, strategy='most_frequent')\n",
    "lst = []\n",
    "for n in people['name'].unique():\n",
    "    x = people[people['name'] == n]\n",
    "    flag = False\n",
    "    for c in x.columns:\n",
    "        if x[c].isnull().all():\n",
    "            flag = True\n",
    "            break\n",
    "    if flag:\n",
    "        continue\n",
    "    lst.append(pd.DataFrame(imp.fit_transform(x)))"
   ]
  },
  {
   "cell_type": "code",
   "execution_count": 6,
   "metadata": {
    "collapsed": false
   },
   "outputs": [
    {
     "data": {
      "text/plain": [
       "203"
      ]
     },
     "execution_count": 6,
     "metadata": {},
     "output_type": "execute_result"
    }
   ],
   "source": [
    "len(lst)"
   ]
  },
  {
   "cell_type": "code",
   "execution_count": 7,
   "metadata": {
    "collapsed": false
   },
   "outputs": [],
   "source": [
    "people_new = pd.DataFrame()\n",
    "for i in lst:\n",
    "    people_new = people_new.append(i)"
   ]
  },
  {
   "cell_type": "code",
   "execution_count": 8,
   "metadata": {
    "collapsed": false
   },
   "outputs": [],
   "source": [
    "people_new.columns = people.columns"
   ]
  },
  {
   "cell_type": "code",
   "execution_count": 9,
   "metadata": {
    "collapsed": false
   },
   "outputs": [
    {
     "data": {
      "text/html": [
       "<div>\n",
       "<table border=\"1\" class=\"dataframe\">\n",
       "  <thead>\n",
       "    <tr style=\"text-align: right;\">\n",
       "      <th></th>\n",
       "      <th>name</th>\n",
       "      <th>roles</th>\n",
       "      <th>profession</th>\n",
       "      <th>processed date</th>\n",
       "      <th>Archive</th>\n",
       "      <th>source</th>\n",
       "      <th>target</th>\n",
       "      <th>target's role</th>\n",
       "      <th>target_name</th>\n",
       "      <th>target norm_name</th>\n",
       "    </tr>\n",
       "  </thead>\n",
       "  <tbody>\n",
       "    <tr>\n",
       "      <th>0</th>\n",
       "      <td>...-a</td>\n",
       "      <td>{'representative'}</td>\n",
       "      <td>udu[sheep]</td>\n",
       "      <td>61.0401</td>\n",
       "      <td>domesticated animal</td>\n",
       "      <td>1</td>\n",
       "      <td>1189</td>\n",
       "      <td>{'recipient'}</td>\n",
       "      <td>lu₂-{d}inanna</td>\n",
       "      <td>LuʾInanakak[]PN</td>\n",
       "    </tr>\n",
       "    <tr>\n",
       "      <th>1</th>\n",
       "      <td>...-a</td>\n",
       "      <td>{'representative'}</td>\n",
       "      <td>udu[sheep]</td>\n",
       "      <td>61.0401</td>\n",
       "      <td>queen</td>\n",
       "      <td>1</td>\n",
       "      <td>1189</td>\n",
       "      <td>{'recipient'}</td>\n",
       "      <td>lu₂-{d}inanna</td>\n",
       "      <td>LuʾInanakak[]PN</td>\n",
       "    </tr>\n",
       "    <tr>\n",
       "      <th>2</th>\n",
       "      <td>...-a</td>\n",
       "      <td>{'source'}</td>\n",
       "      <td>udu[sheep]</td>\n",
       "      <td>61.0401</td>\n",
       "      <td>queen</td>\n",
       "      <td>1</td>\n",
       "      <td>1189</td>\n",
       "      <td>{'recipient'}</td>\n",
       "      <td>lu₂-{d}inanna</td>\n",
       "      <td>LuʾInanakak[]PN</td>\n",
       "    </tr>\n",
       "    <tr>\n",
       "      <th>3</th>\n",
       "      <td>...-a</td>\n",
       "      <td>{'representative'}</td>\n",
       "      <td>udu[sheep]</td>\n",
       "      <td>61.0401</td>\n",
       "      <td>queen</td>\n",
       "      <td>1</td>\n",
       "      <td>1189</td>\n",
       "      <td>{'recipient'}</td>\n",
       "      <td>lu₂-{d}inanna</td>\n",
       "      <td>LuʾInanakak[]PN</td>\n",
       "    </tr>\n",
       "    <tr>\n",
       "      <th>4</th>\n",
       "      <td>...-a</td>\n",
       "      <td>{'representative'}</td>\n",
       "      <td>udu[sheep]</td>\n",
       "      <td>61.0401</td>\n",
       "      <td>domesticated animal</td>\n",
       "      <td>1</td>\n",
       "      <td>1189</td>\n",
       "      <td>{'recipient'}</td>\n",
       "      <td>lu₂-{d}inanna</td>\n",
       "      <td>LuʾInanakak[]PN</td>\n",
       "    </tr>\n",
       "  </tbody>\n",
       "</table>\n",
       "</div>"
      ],
      "text/plain": [
       "    name               roles  profession processed date              Archive  \\\n",
       "0  ...-a  {'representative'}  udu[sheep]        61.0401  domesticated animal   \n",
       "1  ...-a  {'representative'}  udu[sheep]        61.0401                queen   \n",
       "2  ...-a          {'source'}  udu[sheep]        61.0401                queen   \n",
       "3  ...-a  {'representative'}  udu[sheep]        61.0401                queen   \n",
       "4  ...-a  {'representative'}  udu[sheep]        61.0401  domesticated animal   \n",
       "\n",
       "  source target  target's role    target_name target norm_name  \n",
       "0      1   1189  {'recipient'}  lu₂-{d}inanna  LuʾInanakak[]PN  \n",
       "1      1   1189  {'recipient'}  lu₂-{d}inanna  LuʾInanakak[]PN  \n",
       "2      1   1189  {'recipient'}  lu₂-{d}inanna  LuʾInanakak[]PN  \n",
       "3      1   1189  {'recipient'}  lu₂-{d}inanna  LuʾInanakak[]PN  \n",
       "4      1   1189  {'recipient'}  lu₂-{d}inanna  LuʾInanakak[]PN  "
      ]
     },
     "execution_count": 9,
     "metadata": {},
     "output_type": "execute_result"
    }
   ],
   "source": [
    "people_new.head()"
   ]
  },
  {
   "cell_type": "code",
   "execution_count": 10,
   "metadata": {
    "collapsed": false
   },
   "outputs": [
    {
     "data": {
      "text/html": [
       "<div>\n",
       "<table border=\"1\" class=\"dataframe\">\n",
       "  <thead>\n",
       "    <tr style=\"text-align: right;\">\n",
       "      <th></th>\n",
       "      <th>name</th>\n",
       "      <th>roles</th>\n",
       "      <th>profession</th>\n",
       "      <th>processed date</th>\n",
       "      <th>Archive</th>\n",
       "      <th>source</th>\n",
       "      <th>target</th>\n",
       "      <th>target's role</th>\n",
       "      <th>target_name</th>\n",
       "      <th>target norm_name</th>\n",
       "    </tr>\n",
       "  </thead>\n",
       "  <tbody>\n",
       "    <tr>\n",
       "      <th>0</th>\n",
       "      <td>0</td>\n",
       "      <td>8</td>\n",
       "      <td>70</td>\n",
       "      <td>141</td>\n",
       "      <td>1</td>\n",
       "      <td>0</td>\n",
       "      <td>284</td>\n",
       "      <td>5</td>\n",
       "      <td>242</td>\n",
       "      <td>189</td>\n",
       "    </tr>\n",
       "    <tr>\n",
       "      <th>1</th>\n",
       "      <td>0</td>\n",
       "      <td>8</td>\n",
       "      <td>70</td>\n",
       "      <td>141</td>\n",
       "      <td>4</td>\n",
       "      <td>0</td>\n",
       "      <td>284</td>\n",
       "      <td>5</td>\n",
       "      <td>242</td>\n",
       "      <td>189</td>\n",
       "    </tr>\n",
       "    <tr>\n",
       "      <th>2</th>\n",
       "      <td>0</td>\n",
       "      <td>9</td>\n",
       "      <td>70</td>\n",
       "      <td>141</td>\n",
       "      <td>4</td>\n",
       "      <td>0</td>\n",
       "      <td>284</td>\n",
       "      <td>5</td>\n",
       "      <td>242</td>\n",
       "      <td>189</td>\n",
       "    </tr>\n",
       "    <tr>\n",
       "      <th>3</th>\n",
       "      <td>0</td>\n",
       "      <td>8</td>\n",
       "      <td>70</td>\n",
       "      <td>141</td>\n",
       "      <td>4</td>\n",
       "      <td>0</td>\n",
       "      <td>284</td>\n",
       "      <td>5</td>\n",
       "      <td>242</td>\n",
       "      <td>189</td>\n",
       "    </tr>\n",
       "    <tr>\n",
       "      <th>4</th>\n",
       "      <td>0</td>\n",
       "      <td>8</td>\n",
       "      <td>70</td>\n",
       "      <td>141</td>\n",
       "      <td>1</td>\n",
       "      <td>0</td>\n",
       "      <td>284</td>\n",
       "      <td>5</td>\n",
       "      <td>242</td>\n",
       "      <td>189</td>\n",
       "    </tr>\n",
       "  </tbody>\n",
       "</table>\n",
       "</div>"
      ],
      "text/plain": [
       "   name  roles  profession  processed date  Archive  source  target  \\\n",
       "0     0      8          70             141        1       0     284   \n",
       "1     0      8          70             141        4       0     284   \n",
       "2     0      9          70             141        4       0     284   \n",
       "3     0      8          70             141        4       0     284   \n",
       "4     0      8          70             141        1       0     284   \n",
       "\n",
       "   target's role  target_name  target norm_name  \n",
       "0              5          242               189  \n",
       "1              5          242               189  \n",
       "2              5          242               189  \n",
       "3              5          242               189  \n",
       "4              5          242               189  "
      ]
     },
     "execution_count": 10,
     "metadata": {},
     "output_type": "execute_result"
    }
   ],
   "source": [
    "# TODO: create a LabelEncoder object and fit it to each feature in people_cat\n",
    "\n",
    "\n",
    "# 1. INSTANTIATE\n",
    "# encode labels with value between 0 and n_classes-1.\n",
    "le = preprocessing.LabelEncoder()\n",
    "\n",
    "\n",
    "# 2/3. FIT AND TRANSFORM\n",
    "# use df.apply() to apply le.fit_transform to all columns\n",
    "people_cat_2 = people_new.apply(le.fit_transform)\n",
    "people_cat_2.head()"
   ]
  },
  {
   "cell_type": "code",
   "execution_count": 11,
   "metadata": {
    "collapsed": false
   },
   "outputs": [
    {
     "name": "stderr",
     "output_type": "stream",
     "text": [
      "/Users/babybear68/anaconda/lib/python3.5/site-packages/sklearn/preprocessing/_encoders.py:363: FutureWarning: The handling of integer data will change in version 0.22. Currently, the categories are determined based on the range [0, max(values)], while in the future they will be determined based on the unique values.\n",
      "If you want the future behaviour and silence this warning, you can specify \"categories='auto'\".\n",
      "In case you used a LabelEncoder before this OneHotEncoder to convert the categories to integers, then you can now use the OneHotEncoder directly.\n",
      "  warnings.warn(msg, FutureWarning)\n"
     ]
    },
    {
     "data": {
      "text/plain": [
       "(38461, 4946)"
      ]
     },
     "execution_count": 11,
     "metadata": {},
     "output_type": "execute_result"
    }
   ],
   "source": [
    "# TODO: create a OneHotEncoder object, and fit it to all of people_cat\n",
    "\n",
    "# 1. INSTANTIATE\n",
    "enc = preprocessing.OneHotEncoder()\n",
    "\n",
    "# 2. FIT\n",
    "enc.fit(people_cat_2)\n",
    "\n",
    "# 3. Transform\n",
    "onehotlabels = enc.transform(people_cat_2).toarray()\n",
    "onehotlabels.shape\n",
    "\n",
    "# as you can see, you've the same number of rows 891\n",
    "# but now you've so many more columns due to how we changed all the categorical data into numerical data"
   ]
  },
  {
   "cell_type": "code",
   "execution_count": 12,
   "metadata": {
    "collapsed": false
   },
   "outputs": [
    {
     "data": {
      "text/plain": [
       "array([[1., 0., 0., ..., 0., 0., 0.],\n",
       "       [1., 0., 0., ..., 0., 0., 0.],\n",
       "       [1., 0., 0., ..., 0., 0., 0.],\n",
       "       ...,\n",
       "       [0., 0., 0., ..., 0., 0., 0.],\n",
       "       [0., 0., 0., ..., 0., 0., 0.],\n",
       "       [0., 0., 0., ..., 0., 0., 0.]])"
      ]
     },
     "execution_count": 12,
     "metadata": {},
     "output_type": "execute_result"
    }
   ],
   "source": [
    "onehotlabels"
   ]
  },
  {
   "cell_type": "markdown",
   "metadata": {},
   "source": [
    "We just converted our categorical data into a sparse matrix. We should add this matrix to our quantitative data. "
   ]
  },
  {
   "cell_type": "code",
   "execution_count": 13,
   "metadata": {
    "collapsed": false
   },
   "outputs": [
    {
     "data": {
      "text/plain": [
       "array([[1.        , 0.        , 0.        , ..., 0.        , 0.        ,\n",
       "        2.03467   ],\n",
       "       [1.        , 0.        , 0.        , ..., 0.        , 0.        ,\n",
       "        2.03467   ],\n",
       "       [1.        , 0.        , 0.        , ..., 0.        , 0.        ,\n",
       "        2.03467   ],\n",
       "       ...,\n",
       "       [0.        , 0.        , 0.        , ..., 0.        , 0.        ,\n",
       "        2.20266667],\n",
       "       [0.        , 0.        , 0.        , ..., 0.        , 0.        ,\n",
       "        2.46701   ],\n",
       "       [0.        , 0.        , 0.        , ..., 0.        , 0.        ,\n",
       "        2.43374333]])"
      ]
     },
     "execution_count": 13,
     "metadata": {},
     "output_type": "execute_result"
    }
   ],
   "source": [
    "dates = [[people_new['processed date'].values[i] / 30] for i in np.arange(len(people_new['processed date']))]\n",
    "people_cat_quant = np.hstack((onehotlabels, dates))\n",
    "people_cat_quant"
   ]
  },
  {
   "cell_type": "markdown",
   "metadata": {},
   "source": [
    "Our matrix is now ready to be passed through the DBSCAN algorithm. "
   ]
  },
  {
   "cell_type": "markdown",
   "metadata": {},
   "source": [
    "Let's try the algorithm with the name \"...-a\""
   ]
  },
  {
   "cell_type": "code",
   "execution_count": 14,
   "metadata": {
    "collapsed": false
   },
   "outputs": [
    {
     "data": {
      "text/html": [
       "<div>\n",
       "<table border=\"1\" class=\"dataframe\">\n",
       "  <thead>\n",
       "    <tr style=\"text-align: right;\">\n",
       "      <th></th>\n",
       "      <th>name</th>\n",
       "      <th>roles</th>\n",
       "      <th>profession</th>\n",
       "      <th>processed date</th>\n",
       "      <th>Archive</th>\n",
       "      <th>source</th>\n",
       "      <th>target</th>\n",
       "      <th>target's role</th>\n",
       "      <th>target_name</th>\n",
       "      <th>target norm_name</th>\n",
       "    </tr>\n",
       "  </thead>\n",
       "  <tbody>\n",
       "    <tr>\n",
       "      <th>0</th>\n",
       "      <td>ur-mes</td>\n",
       "      <td>{'recipient'}</td>\n",
       "      <td>ensik[ruler]</td>\n",
       "      <td>78.09</td>\n",
       "      <td>domesticated animal</td>\n",
       "      <td>1555</td>\n",
       "      <td>1565</td>\n",
       "      <td>{'intermediary'}</td>\n",
       "      <td>ur-mes</td>\n",
       "      <td>Urmes[]PN</td>\n",
       "    </tr>\n",
       "    <tr>\n",
       "      <th>1</th>\n",
       "      <td>ur-mes</td>\n",
       "      <td>{'recipient'}</td>\n",
       "      <td>ensik[ruler]</td>\n",
       "      <td>78.09</td>\n",
       "      <td>unknown</td>\n",
       "      <td>1555</td>\n",
       "      <td>1555</td>\n",
       "      <td>{'intermediary'}</td>\n",
       "      <td>ur-mes</td>\n",
       "      <td>Urmes[]PN</td>\n",
       "    </tr>\n",
       "    <tr>\n",
       "      <th>2</th>\n",
       "      <td>ur-mes</td>\n",
       "      <td>{'recipient'}</td>\n",
       "      <td>ensik[ruler]</td>\n",
       "      <td>78.09</td>\n",
       "      <td>domesticated animal</td>\n",
       "      <td>1555</td>\n",
       "      <td>1555</td>\n",
       "      <td>{'intermediary'}</td>\n",
       "      <td>ur-mes</td>\n",
       "      <td>Urmes[]PN</td>\n",
       "    </tr>\n",
       "    <tr>\n",
       "      <th>3</th>\n",
       "      <td>ur-mes</td>\n",
       "      <td>{'recipient'}</td>\n",
       "      <td>ensik[ruler]</td>\n",
       "      <td>78.09</td>\n",
       "      <td>unknown</td>\n",
       "      <td>1555</td>\n",
       "      <td>1555</td>\n",
       "      <td>{'intermediary'}</td>\n",
       "      <td>ur-mes</td>\n",
       "      <td>Urmes[]PN</td>\n",
       "    </tr>\n",
       "    <tr>\n",
       "      <th>4</th>\n",
       "      <td>ur-mes</td>\n",
       "      <td>{'recipient'}</td>\n",
       "      <td>ensik[ruler]</td>\n",
       "      <td>78.09</td>\n",
       "      <td>domesticated animal</td>\n",
       "      <td>1555</td>\n",
       "      <td>1555</td>\n",
       "      <td>{'intermediary'}</td>\n",
       "      <td>ur-mes</td>\n",
       "      <td>Urmes[]PN</td>\n",
       "    </tr>\n",
       "  </tbody>\n",
       "</table>\n",
       "</div>"
      ],
      "text/plain": [
       "     name          roles    profession processed date              Archive  \\\n",
       "0  ur-mes  {'recipient'}  ensik[ruler]          78.09  domesticated animal   \n",
       "1  ur-mes  {'recipient'}  ensik[ruler]          78.09              unknown   \n",
       "2  ur-mes  {'recipient'}  ensik[ruler]          78.09  domesticated animal   \n",
       "3  ur-mes  {'recipient'}  ensik[ruler]          78.09              unknown   \n",
       "4  ur-mes  {'recipient'}  ensik[ruler]          78.09  domesticated animal   \n",
       "\n",
       "  source target     target's role target_name target norm_name  \n",
       "0   1555   1565  {'intermediary'}      ur-mes        Urmes[]PN  \n",
       "1   1555   1555  {'intermediary'}      ur-mes        Urmes[]PN  \n",
       "2   1555   1555  {'intermediary'}      ur-mes        Urmes[]PN  \n",
       "3   1555   1555  {'intermediary'}      ur-mes        Urmes[]PN  \n",
       "4   1555   1555  {'intermediary'}      ur-mes        Urmes[]PN  "
      ]
     },
     "execution_count": 14,
     "metadata": {},
     "output_type": "execute_result"
    }
   ],
   "source": [
    "people_new[people_new['name'] == 'ur-mes'].head()"
   ]
  },
  {
   "cell_type": "code",
   "execution_count": 15,
   "metadata": {
    "collapsed": false
   },
   "outputs": [
    {
     "data": {
      "text/html": [
       "<div>\n",
       "<table border=\"1\" class=\"dataframe\">\n",
       "  <thead>\n",
       "    <tr style=\"text-align: right;\">\n",
       "      <th></th>\n",
       "      <th>name</th>\n",
       "      <th>roles</th>\n",
       "      <th>profession</th>\n",
       "      <th>processed date</th>\n",
       "      <th>Archive</th>\n",
       "      <th>source</th>\n",
       "      <th>target</th>\n",
       "      <th>target's role</th>\n",
       "      <th>target_name</th>\n",
       "      <th>target norm_name</th>\n",
       "    </tr>\n",
       "  </thead>\n",
       "  <tbody>\n",
       "    <tr>\n",
       "      <th>0</th>\n",
       "      <td>...-a</td>\n",
       "      <td>{'representative'}</td>\n",
       "      <td>udu[sheep]</td>\n",
       "      <td>61.0401</td>\n",
       "      <td>domesticated animal</td>\n",
       "      <td>1</td>\n",
       "      <td>1189</td>\n",
       "      <td>{'recipient'}</td>\n",
       "      <td>lu₂-{d}inanna</td>\n",
       "      <td>LuʾInanakak[]PN</td>\n",
       "    </tr>\n",
       "    <tr>\n",
       "      <th>1</th>\n",
       "      <td>...-a</td>\n",
       "      <td>{'representative'}</td>\n",
       "      <td>udu[sheep]</td>\n",
       "      <td>61.0401</td>\n",
       "      <td>queen</td>\n",
       "      <td>1</td>\n",
       "      <td>1189</td>\n",
       "      <td>{'recipient'}</td>\n",
       "      <td>lu₂-{d}inanna</td>\n",
       "      <td>LuʾInanakak[]PN</td>\n",
       "    </tr>\n",
       "    <tr>\n",
       "      <th>2</th>\n",
       "      <td>...-a</td>\n",
       "      <td>{'source'}</td>\n",
       "      <td>udu[sheep]</td>\n",
       "      <td>61.0401</td>\n",
       "      <td>queen</td>\n",
       "      <td>1</td>\n",
       "      <td>1189</td>\n",
       "      <td>{'recipient'}</td>\n",
       "      <td>lu₂-{d}inanna</td>\n",
       "      <td>LuʾInanakak[]PN</td>\n",
       "    </tr>\n",
       "    <tr>\n",
       "      <th>3</th>\n",
       "      <td>...-a</td>\n",
       "      <td>{'representative'}</td>\n",
       "      <td>udu[sheep]</td>\n",
       "      <td>61.0401</td>\n",
       "      <td>queen</td>\n",
       "      <td>1</td>\n",
       "      <td>1189</td>\n",
       "      <td>{'recipient'}</td>\n",
       "      <td>lu₂-{d}inanna</td>\n",
       "      <td>LuʾInanakak[]PN</td>\n",
       "    </tr>\n",
       "    <tr>\n",
       "      <th>4</th>\n",
       "      <td>...-a</td>\n",
       "      <td>{'representative'}</td>\n",
       "      <td>udu[sheep]</td>\n",
       "      <td>61.0401</td>\n",
       "      <td>domesticated animal</td>\n",
       "      <td>1</td>\n",
       "      <td>1189</td>\n",
       "      <td>{'recipient'}</td>\n",
       "      <td>lu₂-{d}inanna</td>\n",
       "      <td>LuʾInanakak[]PN</td>\n",
       "    </tr>\n",
       "  </tbody>\n",
       "</table>\n",
       "</div>"
      ],
      "text/plain": [
       "    name               roles  profession processed date              Archive  \\\n",
       "0  ...-a  {'representative'}  udu[sheep]        61.0401  domesticated animal   \n",
       "1  ...-a  {'representative'}  udu[sheep]        61.0401                queen   \n",
       "2  ...-a          {'source'}  udu[sheep]        61.0401                queen   \n",
       "3  ...-a  {'representative'}  udu[sheep]        61.0401                queen   \n",
       "4  ...-a  {'representative'}  udu[sheep]        61.0401  domesticated animal   \n",
       "\n",
       "  source target  target's role    target_name target norm_name  \n",
       "0      1   1189  {'recipient'}  lu₂-{d}inanna  LuʾInanakak[]PN  \n",
       "1      1   1189  {'recipient'}  lu₂-{d}inanna  LuʾInanakak[]PN  \n",
       "2      1   1189  {'recipient'}  lu₂-{d}inanna  LuʾInanakak[]PN  \n",
       "3      1   1189  {'recipient'}  lu₂-{d}inanna  LuʾInanakak[]PN  \n",
       "4      1   1189  {'recipient'}  lu₂-{d}inanna  LuʾInanakak[]PN  "
      ]
     },
     "execution_count": 15,
     "metadata": {},
     "output_type": "execute_result"
    }
   ],
   "source": [
    "people_new.head()"
   ]
  },
  {
   "cell_type": "code",
   "execution_count": 16,
   "metadata": {
    "collapsed": true
   },
   "outputs": [],
   "source": [
    "# people.loc[people['name'] == \"šu-{d}šul-gi\"]\n",
    "name_example = people_cat_quant[people_cat_quant[:,0] == 1,:]"
   ]
  },
  {
   "cell_type": "code",
   "execution_count": 17,
   "metadata": {
    "collapsed": false
   },
   "outputs": [
    {
     "data": {
      "text/html": [
       "<div>\n",
       "<table border=\"1\" class=\"dataframe\">\n",
       "  <thead>\n",
       "    <tr style=\"text-align: right;\">\n",
       "      <th></th>\n",
       "      <th>name</th>\n",
       "    </tr>\n",
       "  </thead>\n",
       "  <tbody>\n",
       "    <tr>\n",
       "      <th>0</th>\n",
       "      <td>...-a</td>\n",
       "    </tr>\n",
       "    <tr>\n",
       "      <th>1</th>\n",
       "      <td>...-bi</td>\n",
       "    </tr>\n",
       "    <tr>\n",
       "      <th>2</th>\n",
       "      <td>...-du</td>\n",
       "    </tr>\n",
       "    <tr>\n",
       "      <th>3</th>\n",
       "      <td>...-ga</td>\n",
       "    </tr>\n",
       "    <tr>\n",
       "      <th>4</th>\n",
       "      <td>...-gu₇</td>\n",
       "    </tr>\n",
       "  </tbody>\n",
       "</table>\n",
       "</div>"
      ],
      "text/plain": [
       "      name\n",
       "0    ...-a\n",
       "1   ...-bi\n",
       "2   ...-du\n",
       "3   ...-ga\n",
       "4  ...-gu₇"
      ]
     },
     "execution_count": 17,
     "metadata": {},
     "output_type": "execute_result"
    }
   ],
   "source": [
    "ni = {'name': people.groupby(['name']).size().keys()}\n",
    "names_and_indices = pd.DataFrame(data=ni)\n",
    "names_and_indices.head()"
   ]
  },
  {
   "cell_type": "code",
   "execution_count": 18,
   "metadata": {
    "collapsed": false
   },
   "outputs": [
    {
     "data": {
      "text/plain": [
       "array([ 0,  0,  0,  0,  0,  0, -1,  0, -1, -1])"
      ]
     },
     "execution_count": 18,
     "metadata": {},
     "output_type": "execute_result"
    }
   ],
   "source": [
    "clustering = DBSCAN(eps=2).fit(name_example)\n",
    "clustering.labels_"
   ]
  },
  {
   "cell_type": "code",
   "execution_count": 19,
   "metadata": {
    "collapsed": false
   },
   "outputs": [
    {
     "data": {
      "text/html": [
       "<div>\n",
       "<table border=\"1\" class=\"dataframe\">\n",
       "  <thead>\n",
       "    <tr style=\"text-align: right;\">\n",
       "      <th></th>\n",
       "      <th>index</th>\n",
       "      <th>name</th>\n",
       "      <th>roles</th>\n",
       "      <th>profession</th>\n",
       "      <th>processed date</th>\n",
       "      <th>Archive</th>\n",
       "      <th>source</th>\n",
       "      <th>target</th>\n",
       "      <th>target's role</th>\n",
       "      <th>target_name</th>\n",
       "      <th>target norm_name</th>\n",
       "    </tr>\n",
       "  </thead>\n",
       "  <tbody>\n",
       "    <tr>\n",
       "      <th>0</th>\n",
       "      <td>0</td>\n",
       "      <td>...-a</td>\n",
       "      <td>{'representative'}</td>\n",
       "      <td>udu[sheep]</td>\n",
       "      <td>61.0401</td>\n",
       "      <td>domesticated animal</td>\n",
       "      <td>1</td>\n",
       "      <td>1189</td>\n",
       "      <td>{'recipient'}</td>\n",
       "      <td>lu₂-{d}inanna</td>\n",
       "      <td>LuʾInanakak[]PN</td>\n",
       "    </tr>\n",
       "    <tr>\n",
       "      <th>1</th>\n",
       "      <td>1</td>\n",
       "      <td>...-a</td>\n",
       "      <td>{'representative'}</td>\n",
       "      <td>udu[sheep]</td>\n",
       "      <td>61.0401</td>\n",
       "      <td>queen</td>\n",
       "      <td>1</td>\n",
       "      <td>1189</td>\n",
       "      <td>{'recipient'}</td>\n",
       "      <td>lu₂-{d}inanna</td>\n",
       "      <td>LuʾInanakak[]PN</td>\n",
       "    </tr>\n",
       "    <tr>\n",
       "      <th>2</th>\n",
       "      <td>2</td>\n",
       "      <td>...-a</td>\n",
       "      <td>{'source'}</td>\n",
       "      <td>udu[sheep]</td>\n",
       "      <td>61.0401</td>\n",
       "      <td>queen</td>\n",
       "      <td>1</td>\n",
       "      <td>1189</td>\n",
       "      <td>{'recipient'}</td>\n",
       "      <td>lu₂-{d}inanna</td>\n",
       "      <td>LuʾInanakak[]PN</td>\n",
       "    </tr>\n",
       "    <tr>\n",
       "      <th>3</th>\n",
       "      <td>3</td>\n",
       "      <td>...-a</td>\n",
       "      <td>{'representative'}</td>\n",
       "      <td>udu[sheep]</td>\n",
       "      <td>61.0401</td>\n",
       "      <td>queen</td>\n",
       "      <td>1</td>\n",
       "      <td>1189</td>\n",
       "      <td>{'recipient'}</td>\n",
       "      <td>lu₂-{d}inanna</td>\n",
       "      <td>LuʾInanakak[]PN</td>\n",
       "    </tr>\n",
       "    <tr>\n",
       "      <th>4</th>\n",
       "      <td>4</td>\n",
       "      <td>...-a</td>\n",
       "      <td>{'representative'}</td>\n",
       "      <td>udu[sheep]</td>\n",
       "      <td>61.0401</td>\n",
       "      <td>domesticated animal</td>\n",
       "      <td>1</td>\n",
       "      <td>1189</td>\n",
       "      <td>{'recipient'}</td>\n",
       "      <td>lu₂-{d}inanna</td>\n",
       "      <td>LuʾInanakak[]PN</td>\n",
       "    </tr>\n",
       "    <tr>\n",
       "      <th>5</th>\n",
       "      <td>5</td>\n",
       "      <td>...-a</td>\n",
       "      <td>{'representative'}</td>\n",
       "      <td>udu[sheep]</td>\n",
       "      <td>61.0401</td>\n",
       "      <td>domesticated animal</td>\n",
       "      <td>1</td>\n",
       "      <td>1189</td>\n",
       "      <td>{'recipient'}</td>\n",
       "      <td>lu₂-{d}inanna</td>\n",
       "      <td>LuʾInanakak[]PN</td>\n",
       "    </tr>\n",
       "    <tr>\n",
       "      <th>7</th>\n",
       "      <td>7</td>\n",
       "      <td>...-a</td>\n",
       "      <td>{'representative'}</td>\n",
       "      <td>nubanda[overseer]</td>\n",
       "      <td>61.0401</td>\n",
       "      <td>domesticated animal</td>\n",
       "      <td>1</td>\n",
       "      <td>1189</td>\n",
       "      <td>{'recipient'}</td>\n",
       "      <td>lu₂-{d}inanna</td>\n",
       "      <td>LuʾInanakak[]PN</td>\n",
       "    </tr>\n",
       "  </tbody>\n",
       "</table>\n",
       "</div>"
      ],
      "text/plain": [
       "   index   name               roles         profession processed date  \\\n",
       "0      0  ...-a  {'representative'}         udu[sheep]        61.0401   \n",
       "1      1  ...-a  {'representative'}         udu[sheep]        61.0401   \n",
       "2      2  ...-a          {'source'}         udu[sheep]        61.0401   \n",
       "3      3  ...-a  {'representative'}         udu[sheep]        61.0401   \n",
       "4      4  ...-a  {'representative'}         udu[sheep]        61.0401   \n",
       "5      5  ...-a  {'representative'}         udu[sheep]        61.0401   \n",
       "7      7  ...-a  {'representative'}  nubanda[overseer]        61.0401   \n",
       "\n",
       "               Archive source target  target's role    target_name  \\\n",
       "0  domesticated animal      1   1189  {'recipient'}  lu₂-{d}inanna   \n",
       "1                queen      1   1189  {'recipient'}  lu₂-{d}inanna   \n",
       "2                queen      1   1189  {'recipient'}  lu₂-{d}inanna   \n",
       "3                queen      1   1189  {'recipient'}  lu₂-{d}inanna   \n",
       "4  domesticated animal      1   1189  {'recipient'}  lu₂-{d}inanna   \n",
       "5  domesticated animal      1   1189  {'recipient'}  lu₂-{d}inanna   \n",
       "7  domesticated animal      1   1189  {'recipient'}  lu₂-{d}inanna   \n",
       "\n",
       "  target norm_name  \n",
       "0  LuʾInanakak[]PN  \n",
       "1  LuʾInanakak[]PN  \n",
       "2  LuʾInanakak[]PN  \n",
       "3  LuʾInanakak[]PN  \n",
       "4  LuʾInanakak[]PN  \n",
       "5  LuʾInanakak[]PN  \n",
       "7  LuʾInanakak[]PN  "
      ]
     },
     "execution_count": 19,
     "metadata": {},
     "output_type": "execute_result"
    }
   ],
   "source": [
    "a = people_new.loc[people_new['name'] == \"...-a\"]\n",
    "a.reset_index()[pd.Series(clustering.labels_) == 0]"
   ]
  },
  {
   "cell_type": "code",
   "execution_count": 20,
   "metadata": {
    "collapsed": false
   },
   "outputs": [
    {
     "data": {
      "text/html": [
       "<div>\n",
       "<table border=\"1\" class=\"dataframe\">\n",
       "  <thead>\n",
       "    <tr style=\"text-align: right;\">\n",
       "      <th></th>\n",
       "      <th>index</th>\n",
       "      <th>name</th>\n",
       "      <th>roles</th>\n",
       "      <th>profession</th>\n",
       "      <th>processed date</th>\n",
       "      <th>Archive</th>\n",
       "      <th>source</th>\n",
       "      <th>target</th>\n",
       "      <th>target's role</th>\n",
       "      <th>target_name</th>\n",
       "      <th>target norm_name</th>\n",
       "    </tr>\n",
       "  </thead>\n",
       "  <tbody>\n",
       "    <tr>\n",
       "      <th>6</th>\n",
       "      <td>6</td>\n",
       "      <td>...-a</td>\n",
       "      <td>{'representative'}</td>\n",
       "      <td>udu[sheep]</td>\n",
       "      <td>62.04</td>\n",
       "      <td>domesticated animal</td>\n",
       "      <td>3</td>\n",
       "      <td>884</td>\n",
       "      <td>{'intermediary'}</td>\n",
       "      <td>ka₅-a-mu</td>\n",
       "      <td>LuʾInanakak[]PN</td>\n",
       "    </tr>\n",
       "    <tr>\n",
       "      <th>8</th>\n",
       "      <td>8</td>\n",
       "      <td>...-a</td>\n",
       "      <td>{'representative'}</td>\n",
       "      <td>udu[sheep]</td>\n",
       "      <td>61.0401</td>\n",
       "      <td>dead animal</td>\n",
       "      <td>1</td>\n",
       "      <td>2181</td>\n",
       "      <td>{'recipient'}</td>\n",
       "      <td>šeš-kal-la</td>\n",
       "      <td>Šeškala[]PN</td>\n",
       "    </tr>\n",
       "    <tr>\n",
       "      <th>9</th>\n",
       "      <td>9</td>\n",
       "      <td>...-a</td>\n",
       "      <td>{'representative'}</td>\n",
       "      <td>udu[sheep]</td>\n",
       "      <td>61.0401</td>\n",
       "      <td>dead animal</td>\n",
       "      <td>1</td>\n",
       "      <td>457</td>\n",
       "      <td>{'recipient'}</td>\n",
       "      <td>dingir-ba-ni</td>\n",
       "      <td>Ilumbani[]PN</td>\n",
       "    </tr>\n",
       "  </tbody>\n",
       "</table>\n",
       "</div>"
      ],
      "text/plain": [
       "   index   name               roles  profession processed date  \\\n",
       "6      6  ...-a  {'representative'}  udu[sheep]          62.04   \n",
       "8      8  ...-a  {'representative'}  udu[sheep]        61.0401   \n",
       "9      9  ...-a  {'representative'}  udu[sheep]        61.0401   \n",
       "\n",
       "               Archive source target     target's role   target_name  \\\n",
       "6  domesticated animal      3    884  {'intermediary'}      ka₅-a-mu   \n",
       "8          dead animal      1   2181     {'recipient'}    šeš-kal-la   \n",
       "9          dead animal      1    457     {'recipient'}  dingir-ba-ni   \n",
       "\n",
       "  target norm_name  \n",
       "6  LuʾInanakak[]PN  \n",
       "8      Šeškala[]PN  \n",
       "9     Ilumbani[]PN  "
      ]
     },
     "execution_count": 20,
     "metadata": {},
     "output_type": "execute_result"
    }
   ],
   "source": [
    "a.reset_index()[pd.Series(clustering.labels_) == -1]"
   ]
  }
 ],
 "metadata": {
  "anaconda-cloud": {},
  "kernelspec": {
   "display_name": "Python [default]",
   "language": "python",
   "name": "python3"
  },
  "language_info": {
   "codemirror_mode": {
    "name": "ipython",
    "version": 3
   },
   "file_extension": ".py",
   "mimetype": "text/x-python",
   "name": "python",
   "nbconvert_exporter": "python",
   "pygments_lexer": "ipython3",
   "version": "3.5.2"
  }
 },
 "nbformat": 4,
 "nbformat_minor": 2
}
