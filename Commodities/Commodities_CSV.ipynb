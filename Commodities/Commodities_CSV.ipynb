{
 "cells": [
  {
   "cell_type": "code",
   "execution_count": 46,
   "metadata": {},
   "outputs": [],
   "source": [
    "import pandas as pd\n",
    "import re\n",
    "import csv"
   ]
  },
  {
   "cell_type": "code",
   "execution_count": 47,
   "metadata": {},
   "outputs": [],
   "source": [
    "f = pd.read_csv('filtered.csv')"
   ]
  },
  {
   "cell_type": "code",
   "execution_count": 79,
   "metadata": {},
   "outputs": [],
   "source": [
    "#ft = f.head(9000)\n",
    "commodities = {}\n",
    "p_number = ''\n",
    "comms = []\n",
    "adjectives = ['amar[young]N','libir[old]V/i','hulu[bad]V/i','ŋuruš[male]N']\n",
    "taboo = ['ki[place]N', 'zal[pass]V/t', 'mana[unit]N','us[side]N', 'us[side]N',  'uri₅{ki}-ta[]GN','ib-ni-{d}iškur[]PN','bala[turn]V/t','uš[die]V/i']\n",
    "for index, row in f.iterrows():\n",
    "    if row['id_word'][:7] != p_number:\n",
    "        commodities[p_number] = comms\n",
    "        p_number = row['id_word'][:7]\n",
    "        comms = []\n",
    "    w = row['lemma']\n",
    "    if (w in adjectives):\n",
    "        pass\n",
    "    else:\n",
    "        n = (f.iloc[index-1]['lemma'])\n",
    "        if ('diš' in n):\n",
    "            if w not in taboo:\n",
    "                comms.append(w)\n",
    "commodities[p_number] = comms\n",
    "del commodities['']\n"
   ]
  },
  {
   "cell_type": "code",
   "execution_count": null,
   "metadata": {},
   "outputs": [],
   "source": [
    "d = {'commodities': commodities.values()}\n",
    "commodities_df = pd.DataFrame.from_dict(commodities, orient='index')\n",
    "#commodities"
   ]
  },
  {
   "cell_type": "code",
   "execution_count": 82,
   "metadata": {},
   "outputs": [],
   "source": [
    "commodities_df.to_csv('commodities_CSV.csv')"
   ]
  },
  {
   "cell_type": "code",
   "execution_count": null,
   "metadata": {},
   "outputs": [],
   "source": [
    "record_per_file = 10000\n",
    "\n",
    "for j in range(len(csvfilename)):\n",
    "    if j % record_per_file == 0:\n",
    "        write_file = csvfilename[j:j+record_per_file]\n",
    "                #adding header at the start of the write_file\n",
    "                write_file.insert(0, header)\n",
    "        #write in file\n",
    "            open(str(fil)+ str(file) + '.csv', 'w+').writelines(write_file)\n",
    "                file += 1"
   ]
  },
  {
   "cell_type": "code",
   "execution_count": null,
   "metadata": {},
   "outputs": [],
   "source": []
  },
  {
   "cell_type": "code",
   "execution_count": null,
   "metadata": {},
   "outputs": [],
   "source": []
  }
 ],
 "metadata": {
  "kernelspec": {
   "display_name": "Python 3",
   "language": "python",
   "name": "python3"
  },
  "language_info": {
   "codemirror_mode": {
    "name": "ipython",
    "version": 3
   },
   "file_extension": ".py",
   "mimetype": "text/x-python",
   "name": "python",
   "nbconvert_exporter": "python",
   "pygments_lexer": "ipython3",
   "version": "3.7.1"
  }
 },
 "nbformat": 4,
 "nbformat_minor": 2
}
