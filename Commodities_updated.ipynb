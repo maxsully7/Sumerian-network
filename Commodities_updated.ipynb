{
 "cells": [
  {
   "cell_type": "code",
   "execution_count": 588,
   "metadata": {},
   "outputs": [],
   "source": [
    "import re\n",
    "import numpy as np\n",
    "import pandas as pd\n",
    "ids_CDLI = pd.read_csv('drehem_p_ids.txt', sep=\" \", header=None, names=[\"CDLI\"], dtype='str')\n",
    "ids_BDTNS = pd.read_fwf('query_cat_17_09_6-194802.txt', sep=\" \", header=None, names=[\"BDTNS\", \"CDLI\"])\n",
    "BDTNS = list(ids_BDTNS['CDLI'].str[1:])\n",
    "CDLI = list(ids_CDLI['CDLI'])\n",
    "#finds ids both in BDTNS and CDLI data\n",
    "overlapping_ids = list(set(BDTNS) & set(CDLI))"
   ]
  },
  {
   "cell_type": "code",
   "execution_count": 589,
   "metadata": {},
   "outputs": [],
   "source": [
    "#opens first text, TODO: Open and read more txts, not just group1\n",
    "f = open('ur3_0.txt', 'r')\n",
    "content = f.read().split(\"&P\")[1:]\n",
    "#content = f1.read().split(\"&P\")[1:] + f2.read().split(\"&P\")[1:] + f3.read().split(\"&P\")[1:] + f4.read().split(\"&P\")[1:]\"\"\"\n",
    "#f1 = open('group1.txt', 'r')\n",
    "#f2 = open('group2.txt', 'r')\n",
    "#content = f1.read().split(\"&P\")[1:] + f2.read().split(\"&P\")[1:]\n",
    "commodities = {}\n",
    "#sets up commodities dictionary, where keys=pnumbers, and values=lematized lines with ;n\n",
    "for c in (content):\n",
    "    c_id = re.findall(\"(\\d+) =\",c)[0]\n",
    "    if (c_id in overlapping_ids):\n",
    "        text = re.findall(\"(\\. \\d)(.+?)(\\\\n)\",c)\n",
    "        text_lem = re.findall(\"(#lem: n;)(.+?)(\\\\n)\",c)\n",
    "        commodities[c_id] = list(zip(text, text_lem))\n"
   ]
  },
  {
   "cell_type": "code",
   "execution_count": 590,
   "metadata": {},
   "outputs": [],
   "source": [
    "#original, unfiltered texts making everything worker, and taking out some filtered words from the original commodities dicitonary\n",
    "#breaks each key.value into a list of values of items being exchanged\n",
    "items = []\n",
    "filtered1 = [(\"giŋ\", \"a unit of weight\"), ('mana', 'a unit of weight'),('adda','corpse'),('sila', 'a unit of capacity'), ('lal', 'small'), ('šanabi', 'two-thirds'), ('a', 'arm'), ('bar', 'outside'), ('da', 'side board '),('DU', 'delivery'),('dub', 'smash'), ('dumu', 'worker'), ('e', 'leave'), ('ešeš', 'festival'), \n",
    "             ('gun', 'load'), ('hi', 'mix '), ('amar', 'young'), ('babbar', 'white'), ('gunu', 'speckled'), ('gur', 'unit of capacity'),('mu', 'name'), ('munus', 'woman'), ('niga', 'fattened'),('nita', 'male')\n",
    "            ,('sag', 'fine'), ('tur', 'small'), ('uš', 'die'), ('ŋar', 'put'), ('šeš', 'brother'), ('ŋal', '⟦be⟧ to be (there'), ('ud', 'sun')]\n",
    "text_0 = [(\"giŋ\", \"a unit of weight\"),('zal', 'pass time'), ('adda','corpse'), ('lal', 'small'), ('sila', 'a unit of capacity'), ('šanabi', 'two-thirds'), ('amar', 'young'),\n",
    "         ('gur', 'unit of capacity'), ('sag', 'fine')]\n",
    "for c in commodities.keys():\n",
    "    items_c = []\n",
    "    for e in commodities[c]:\n",
    "        lem = str(e[1])\n",
    "        lem = re.sub(\"(person)|( male)|(child)\", \"worker\", lem)\n",
    "        lem = re.sub(\"~\",\"\", lem)\n",
    "        #text = re.findall(\"\\[(.*?)\\]\", lem)\n",
    "        text = re.findall(\"(\\w*)\\[(.*?)\\]\", lem)\n",
    "        for t in text:\n",
    "            if (t==\"unit\"):\n",
    "                text.remove(t)\n",
    "            elif (t in filtered1):\n",
    "                text.remove(t)\n",
    "        if (len(text)>1) and (text[0] in text_0):\n",
    "            items_c.append(text[1])\n",
    "        elif len(text)==0:\n",
    "            items_c.append(text)\n",
    "        else:\n",
    "            items_c.append(text[0])        \n",
    "    items.append(items_c)"
   ]
  },
  {
   "cell_type": "code",
   "execution_count": 591,
   "metadata": {},
   "outputs": [
    {
     "data": {
      "text/html": [
       "<div>\n",
       "<style scoped>\n",
       "    .dataframe tbody tr th:only-of-type {\n",
       "        vertical-align: middle;\n",
       "    }\n",
       "\n",
       "    .dataframe tbody tr th {\n",
       "        vertical-align: top;\n",
       "    }\n",
       "\n",
       "    .dataframe thead th {\n",
       "        text-align: right;\n",
       "    }\n",
       "</style>\n",
       "<table border=\"1\" class=\"dataframe\">\n",
       "  <thead>\n",
       "    <tr style=\"text-align: right;\">\n",
       "      <th></th>\n",
       "      <th>ip</th>\n",
       "      <th>commodities</th>\n",
       "      <th>#commodities</th>\n",
       "    </tr>\n",
       "  </thead>\n",
       "  <tbody>\n",
       "    <tr>\n",
       "      <th>0</th>\n",
       "      <td>100041</td>\n",
       "      <td>[(udu, sheep)]</td>\n",
       "      <td>1</td>\n",
       "    </tr>\n",
       "    <tr>\n",
       "      <th>1</th>\n",
       "      <td>100189</td>\n",
       "      <td>[(udu, sheep), (sila, lamb)]</td>\n",
       "      <td>2</td>\n",
       "    </tr>\n",
       "    <tr>\n",
       "      <th>2</th>\n",
       "      <td>100190</td>\n",
       "      <td>[(sila, lamb), (sila, lamb), (u, sheep)]</td>\n",
       "      <td>3</td>\n",
       "    </tr>\n",
       "    <tr>\n",
       "      <th>3</th>\n",
       "      <td>100191</td>\n",
       "      <td>[(mašgal, billy goat)]</td>\n",
       "      <td>1</td>\n",
       "    </tr>\n",
       "    <tr>\n",
       "      <th>4</th>\n",
       "      <td>100211</td>\n",
       "      <td>[(udu, sheep), (udu, sheep), (mašgal, billy go...</td>\n",
       "      <td>6</td>\n",
       "    </tr>\n",
       "  </tbody>\n",
       "</table>\n",
       "</div>"
      ],
      "text/plain": [
       "       ip                                        commodities  #commodities\n",
       "0  100041                                     [(udu, sheep)]             1\n",
       "1  100189                       [(udu, sheep), (sila, lamb)]             2\n",
       "2  100190           [(sila, lamb), (sila, lamb), (u, sheep)]             3\n",
       "3  100191                             [(mašgal, billy goat)]             1\n",
       "4  100211  [(udu, sheep), (udu, sheep), (mašgal, billy go...             6"
      ]
     },
     "execution_count": 591,
     "metadata": {},
     "output_type": "execute_result"
    }
   ],
   "source": [
    "d = {'ip': list(commodities.keys()), 'commodities': items}\n",
    "comm_df = pd.DataFrame(data=d)\n",
    "comm_df[\"#commodities\"] = comm_df[\"commodities\"].apply(lambda x:len(x))\n",
    "comm_df.head()"
   ]
  },
  {
   "cell_type": "code",
   "execution_count": 592,
   "metadata": {},
   "outputs": [],
   "source": [
    "test = comm_df.head(100)\n",
    "titles = []\n",
    "for c in list(comm_df['commodities']):\n",
    "    if [] in c:\n",
    "        c = [x for x in a if x != [1, 1]]\n",
    "    titles = titles + (list(set(c) - set(titles)))"
   ]
  },
  {
   "cell_type": "code",
   "execution_count": 585,
   "metadata": {},
   "outputs": [],
   "source": [
    "for t in titles:\n",
    "    comm_df[\"% \" + str(t)] = comm_df['commodities'].map(lambda a: a.count(t)*100)/comm_df['#commodities']\n",
    "comm_df = comm_df.drop([\"% 2\",\"% 3\", \"% 1\", \"% 4\"], axis = 1).set_index(\"ip\")\n",
    "#comm_df = comm_df.rename(index=str, columns={\"#commodities\":\"#_of_commodities\",\"commodities\":\"commodities_list\", \"comm_string\":\"commodities_string\"})"
   ]
  },
  {
   "cell_type": "code",
   "execution_count": 587,
   "metadata": {},
   "outputs": [
    {
     "data": {
      "text/plain": [
       "Index(['104285', '117320'], dtype='object', name='ip')"
      ]
     },
     "execution_count": 587,
     "metadata": {},
     "output_type": "execute_result"
    }
   ],
   "source": [
    "#comm_df[comm_df[\"#_of_commodities\"]==0]\n",
    "#comm_df[comm_df[\"commodities_string\"]=='[]']\n",
    "comm_df1 = comm_df[comm_df['commodities'].apply(lambda x: (('ud', 'sun') in x)==True)]\n",
    "comm_df1.index\n",
    "#comm_df2 = comm_df.dropna()\n",
    "#list(np.sort(comm_df.columns.unique()))\n",
    "#comm_df\n",
    "#('100040' in overlapping_ids)\n",
    "#('100230' in overlapping_ids)"
   ]
  },
  {
   "cell_type": "code",
   "execution_count": 531,
   "metadata": {
    "scrolled": true
   },
   "outputs": [],
   "source": [
    "#text simply keeping first word in each list, filter out units/twothirds?\n",
    "#['worker', 'sun', 'barley', 'milk'] 100014\n",
    "items = []\n",
    "filtered_out = [\"two-thirds\", \"barley\", \"small\",\"sun\", \"rare\", \"fattened\",\"white\"]\n",
    "for c in commodities.keys():\n",
    "    items_c = []\n",
    "    for e in commodities[c]:\n",
    "        lem = str(e[1])\n",
    "        lem = re.sub(\"(person)|(male)|(child)\", \"worker\", lem)\n",
    "        lem = re.sub(\"~\", \"\", lem)\n",
    "        text = re.findall(\"\\[(.*?)\\]\", lem)\n",
    "        for t in text:\n",
    "            if (t in filtered_out):\n",
    "                text.remove(t)\n",
    "        if len(text)==0:\n",
    "            items_c.append(text)\n",
    "        else:\n",
    "            items_c.append(text)\n",
    "    items.append(items_c)"
   ]
  },
  {
   "cell_type": "code",
   "execution_count": 223,
   "metadata": {},
   "outputs": [
    {
     "data": {
      "text/plain": [
       "0"
      ]
     },
     "execution_count": 223,
     "metadata": {},
     "output_type": "execute_result"
    }
   ],
   "source": [
    "x = [(0,1),(12,2)]\n",
    "x[0][0]"
   ]
  },
  {
   "cell_type": "code",
   "execution_count": 8,
   "metadata": {},
   "outputs": [],
   "source": [
    "\"\"\"comm_df['comm_string'] = comm_df['commodities'].astype(str).apply(lambda x: x[1:-1].replace(\",\", \"\").replace(\"'\", \"\"))\n",
    "tidy_format = comm_df['comm_string'].str.split(expand=True).stack().reset_index(level=1)\n",
    "unique_comm = tidy_format[0].unique()\"\"\""
   ]
  },
  {
   "cell_type": "code",
   "execution_count": null,
   "metadata": {},
   "outputs": [],
   "source": [
    "7. 2(u) 5(diš) guruš u₄ 1(diš)-še₃ \n",
    "#lem: n; n; ŋuruš[male]; ud[sun]; n\n",
    "\n",
    "1. 1(geš₂) 1(u) 3(diš) gu₄ ab₂ hi-a \n",
    "#lem: n; n; n; gud[ox]; ab[cow]; hi[mix]\n",
    "\n",
    "1. 1(geš₂) 1(u) 3(diš) gu₄ ab₂ hi-a \n",
    "#lem: n; n; n; gud[ox]; ab[cow]; hi[mix]\n",
    "\n",
    "person, child, male, female = worker\n",
    "anything w garden = garden"
   ]
  }
 ],
 "metadata": {
  "kernelspec": {
   "display_name": "Python 3",
   "language": "python",
   "name": "python3"
  },
  "language_info": {
   "codemirror_mode": {
    "name": "ipython",
    "version": 3
   },
   "file_extension": ".py",
   "mimetype": "text/x-python",
   "name": "python",
   "nbconvert_exporter": "python",
   "pygments_lexer": "ipython3",
   "version": "3.6.5"
  }
 },
 "nbformat": 4,
 "nbformat_minor": 2
}
