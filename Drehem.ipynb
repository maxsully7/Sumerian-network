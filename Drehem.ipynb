{
 "cells": [
  {
   "cell_type": "code",
   "execution_count": 1,
   "metadata": {},
   "outputs": [],
   "source": [
    "import numpy as np\n",
    "import matplotlib.pyplot as plt\n",
    "import pandas as pd\n",
    "import seaborn as sns\n",
    "%matplotlib inline"
   ]
  },
  {
   "cell_type": "code",
   "execution_count": 2,
   "metadata": {},
   "outputs": [],
   "source": [
    "ids_CDLI = pd.read_csv('drehem_p_ids.txt', sep=\" \", header=None, names=[\"CDLI\"], dtype='str')\n",
    "ids_BDTNS = pd.read_fwf('query_cat_17_09_6-194802.txt', sep=\" \", header=None, names=[\"BDTNS\", \"CDLI\"])\n",
    "BDTNS = list(ids_BDTNS['CDLI'].str[1:])\n",
    "CDLI = list(ids_CDLI['CDLI'])\n",
    "#finds ids both in BDTNS and CDLI data\n",
    "overlapping_ids = list(set(BDTNS) & set(CDLI))\n",
    "#finds ids in CDLI that didn't match up with BDTNS in order to train on\n",
    "not_matching_CDLI = ids_CDLI[~ids_CDLI['CDLI'].isin(overlapping_ids)]\n",
    "#ids that didn't match BDNTS\n",
    "not_matching_CDLI = list(not_matching_CDLI['CDLI'])"
   ]
  },
  {
   "cell_type": "code",
   "execution_count": 3,
   "metadata": {},
   "outputs": [],
   "source": [
    "people = pd.read_csv('people.csv')"
   ]
  },
  {
   "cell_type": "code",
   "execution_count": 4,
   "metadata": {},
   "outputs": [],
   "source": [
    "not_matching_CDLI = list(map(int, not_matching_CDLI))\n",
    "people_Drehem = people[~(people['p index'].isin(not_matching_CDLI))]\n",
    "people_Drehem.to_csv('people_Drehem.csv', index=False)"
   ]
  },
  {
   "cell_type": "code",
   "execution_count": 72,
   "metadata": {},
   "outputs": [],
   "source": [
    "roles = ['source', 'intermediary', 'recipient', 'source', 'representative']\n",
    "people_filt =  pd.read_csv('archive_proportions.csv')\n",
    "people_roles = people_filt['role']\n",
    "for r in roles:\n",
    "    people_filt[\"% \" + r] = people_roles.map(lambda a: a.count(r)/(a.count(\",\")+1))\n",
    "people_filt.to_csv('proportion_roles.csv', index = False)"
   ]
  },
  {
   "cell_type": "code",
   "execution_count": null,
   "metadata": {},
   "outputs": [],
   "source": []
  }
 ],
 "metadata": {
  "kernelspec": {
   "display_name": "Python 3",
   "language": "python",
   "name": "python3"
  },
  "language_info": {
   "codemirror_mode": {
    "name": "ipython",
    "version": 3
   },
   "file_extension": ".py",
   "mimetype": "text/x-python",
   "name": "python",
   "nbconvert_exporter": "python",
   "pygments_lexer": "ipython3",
   "version": "3.6.5"
  }
 },
 "nbformat": 4,
 "nbformat_minor": 2
}
