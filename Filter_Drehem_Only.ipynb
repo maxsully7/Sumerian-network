{
 "cells": [
  {
   "cell_type": "code",
   "execution_count": 2,
   "metadata": {},
   "outputs": [],
   "source": [
    "import pandas as pd"
   ]
  },
  {
   "cell_type": "markdown",
   "metadata": {},
   "source": [
    "# Extracting Data from BDTNS\n",
    "\n",
    "Go to http://bdtns.filol.csic.es/index.php?p=formulario_urIII.\n",
    "\n",
    "In the Provenience drop down menu choose \"Puzriš-Dagan\" and hit \"Search\". This will give a list of about 15,000 tablets from Drehem. \n",
    "\n",
    "Now, hit \"Export\" on the left and in the pop-up window select every box except \"Transliteration of the whole text(s)\". Hit \"export\". This will produce a .txt file and you'll need to put it into the \"bdtns_metadata\" folder."
   ]
  },
  {
   "cell_type": "code",
   "execution_count": 4,
   "metadata": {},
   "outputs": [
    {
     "data": {
      "text/html": [
       "<div>\n",
       "<style scoped>\n",
       "    .dataframe tbody tr th:only-of-type {\n",
       "        vertical-align: middle;\n",
       "    }\n",
       "\n",
       "    .dataframe tbody tr th {\n",
       "        vertical-align: top;\n",
       "    }\n",
       "\n",
       "    .dataframe thead th {\n",
       "        text-align: right;\n",
       "    }\n",
       "</style>\n",
       "<table border=\"1\" class=\"dataframe\">\n",
       "  <thead>\n",
       "    <tr style=\"text-align: right;\">\n",
       "      <th></th>\n",
       "      <th>0</th>\n",
       "      <th>1</th>\n",
       "      <th>2</th>\n",
       "      <th>3</th>\n",
       "      <th>4</th>\n",
       "      <th>5</th>\n",
       "      <th>6</th>\n",
       "      <th>7</th>\n",
       "      <th>8</th>\n",
       "    </tr>\n",
       "  </thead>\n",
       "  <tbody>\n",
       "    <tr>\n",
       "      <td>0</td>\n",
       "      <td>38699</td>\n",
       "      <td>P142785</td>\n",
       "      <td>AAICAB 1/1, Ashm. 1919-11a-b = CDLI P142785 = ...</td>\n",
       "      <td>Ashm. 1919-11a-b</td>\n",
       "      <td>Ashmolean Museum</td>\n",
       "      <td>IS01 - 07 - 00</td>\n",
       "      <td>Puzriš-Dagān</td>\n",
       "      <td>S</td>\n",
       "      <td>Tablet and Envelope</td>\n",
       "    </tr>\n",
       "    <tr>\n",
       "      <td>1</td>\n",
       "      <td>38700</td>\n",
       "      <td>P142787</td>\n",
       "      <td>AAICAB 1/1, Ashm. 1923-412 = CDLI P142787</td>\n",
       "      <td>Ashm. 1923-412</td>\n",
       "      <td>Ashmolean Museum</td>\n",
       "      <td>SS05 - 06 - 12</td>\n",
       "      <td>Puzriš-Dagān</td>\n",
       "      <td>N</td>\n",
       "      <td>Tablet</td>\n",
       "    </tr>\n",
       "    <tr>\n",
       "      <td>2</td>\n",
       "      <td>38701</td>\n",
       "      <td>P142788</td>\n",
       "      <td>AAICAB 1/1, Ashm. 1923-415 = CDLI P142788</td>\n",
       "      <td>Ashm. 1923-415</td>\n",
       "      <td>Ashmolean Museum</td>\n",
       "      <td>SH48 - 12 - 20</td>\n",
       "      <td>Puzriš-Dagān</td>\n",
       "      <td>N</td>\n",
       "      <td>NaN</td>\n",
       "    </tr>\n",
       "    <tr>\n",
       "      <td>3</td>\n",
       "      <td>38702</td>\n",
       "      <td>P142789</td>\n",
       "      <td>AAICAB 1/1, Ashm. 1923-419 = CDLI P142789</td>\n",
       "      <td>Ashm. 1923-419</td>\n",
       "      <td>Ashmolean Museum</td>\n",
       "      <td>SS04 - XX - 15</td>\n",
       "      <td>Puzriš-Dagān</td>\n",
       "      <td>N</td>\n",
       "      <td>NaN</td>\n",
       "    </tr>\n",
       "    <tr>\n",
       "      <td>4</td>\n",
       "      <td>38703</td>\n",
       "      <td>P142790</td>\n",
       "      <td>AAICAB 1/1, Ashm. 1923-420 = CDLI P142790</td>\n",
       "      <td>Ashm. 1923-420</td>\n",
       "      <td>Ashmolean Museum</td>\n",
       "      <td>XXXX - 01 - 01</td>\n",
       "      <td>Puzriš-Dagān</td>\n",
       "      <td>N</td>\n",
       "      <td>NaN</td>\n",
       "    </tr>\n",
       "  </tbody>\n",
       "</table>\n",
       "</div>"
      ],
      "text/plain": [
       "       0        1                                                  2  \\\n",
       "0  38699  P142785  AAICAB 1/1, Ashm. 1919-11a-b = CDLI P142785 = ...   \n",
       "1  38700  P142787          AAICAB 1/1, Ashm. 1923-412 = CDLI P142787   \n",
       "2  38701  P142788          AAICAB 1/1, Ashm. 1923-415 = CDLI P142788   \n",
       "3  38702  P142789          AAICAB 1/1, Ashm. 1923-419 = CDLI P142789   \n",
       "4  38703  P142790          AAICAB 1/1, Ashm. 1923-420 = CDLI P142790   \n",
       "\n",
       "                  3                 4               5             6  7  \\\n",
       "0  Ashm. 1919-11a-b  Ashmolean Museum  IS01 - 07 - 00  Puzriš-Dagān  S   \n",
       "1    Ashm. 1923-412  Ashmolean Museum  SS05 - 06 - 12  Puzriš-Dagān  N   \n",
       "2    Ashm. 1923-415  Ashmolean Museum  SH48 - 12 - 20  Puzriš-Dagān  N   \n",
       "3    Ashm. 1923-419  Ashmolean Museum  SS04 - XX - 15  Puzriš-Dagān  N   \n",
       "4    Ashm. 1923-420  Ashmolean Museum  XXXX - 01 - 01  Puzriš-Dagān  N   \n",
       "\n",
       "                     8  \n",
       "0  Tablet and Envelope  \n",
       "1               Tablet  \n",
       "2                  NaN  \n",
       "3                  NaN  \n",
       "4                  NaN  "
      ]
     },
     "execution_count": 4,
     "metadata": {},
     "output_type": "execute_result"
    }
   ],
   "source": [
    "data = pd.read_csv('bdtns_metadata/query_cat_19_09_15-094640.txt', delimiter='\\t', header=None)\n",
    "data.head()"
   ]
  },
  {
   "cell_type": "markdown",
   "metadata": {},
   "source": [
    "# Filtering Data"
   ]
  },
  {
   "cell_type": "code",
   "execution_count": 3,
   "metadata": {},
   "outputs": [
    {
     "data": {
      "text/plain": [
       "232"
      ]
     },
     "execution_count": 3,
     "metadata": {},
     "output_type": "execute_result"
    }
   ],
   "source": [
    "data[1].isnull().sum()"
   ]
  },
  {
   "cell_type": "code",
   "execution_count": 4,
   "metadata": {},
   "outputs": [],
   "source": [
    "data = data.loc[~data[1].isnull(), :]"
   ]
  },
  {
   "cell_type": "code",
   "execution_count": 5,
   "metadata": {},
   "outputs": [
    {
     "data": {
      "text/plain": [
       "0    142785\n",
       "1    142787\n",
       "2    142788\n",
       "3    142789\n",
       "4    142790\n",
       "Name: 1, dtype: object"
      ]
     },
     "execution_count": 5,
     "metadata": {},
     "output_type": "execute_result"
    }
   ],
   "source": [
    "data[1].str[1:].head()"
   ]
  },
  {
   "cell_type": "code",
   "execution_count": 6,
   "metadata": {},
   "outputs": [],
   "source": [
    "drehem_p_numbers = set(data[1].str[1:].values)"
   ]
  },
  {
   "cell_type": "code",
   "execution_count": 7,
   "metadata": {},
   "outputs": [
    {
     "data": {
      "text/html": [
       "<div>\n",
       "<style scoped>\n",
       "    .dataframe tbody tr th:only-of-type {\n",
       "        vertical-align: middle;\n",
       "    }\n",
       "\n",
       "    .dataframe tbody tr th {\n",
       "        vertical-align: top;\n",
       "    }\n",
       "\n",
       "    .dataframe thead th {\n",
       "        text-align: right;\n",
       "    }\n",
       "</style>\n",
       "<table border=\"1\" class=\"dataframe\">\n",
       "  <thead>\n",
       "    <tr style=\"text-align: right;\">\n",
       "      <th></th>\n",
       "      <th>lemma</th>\n",
       "      <th>id_text</th>\n",
       "      <th>id_line</th>\n",
       "      <th>id_word</th>\n",
       "      <th>label</th>\n",
       "    </tr>\n",
       "  </thead>\n",
       "  <tbody>\n",
       "    <tr>\n",
       "      <th>0</th>\n",
       "      <td>3(diš)[]NU</td>\n",
       "      <td>epsd2/admin/u3adm/P124149</td>\n",
       "      <td>3</td>\n",
       "      <td>P124149.3.1</td>\n",
       "      <td>o 1</td>\n",
       "    </tr>\n",
       "    <tr>\n",
       "      <th>1</th>\n",
       "      <td>udu[sheep]N</td>\n",
       "      <td>epsd2/admin/u3adm/P124149</td>\n",
       "      <td>3</td>\n",
       "      <td>P124149.3.2</td>\n",
       "      <td>o 1</td>\n",
       "    </tr>\n",
       "    <tr>\n",
       "      <th>2</th>\n",
       "      <td>6(diš)[]NU</td>\n",
       "      <td>epsd2/admin/u3adm/P124149</td>\n",
       "      <td>4</td>\n",
       "      <td>P124149.4.1</td>\n",
       "      <td>o 2</td>\n",
       "    </tr>\n",
       "    <tr>\n",
       "      <th>3</th>\n",
       "      <td>u[ewe]N</td>\n",
       "      <td>epsd2/admin/u3adm/P124149</td>\n",
       "      <td>4</td>\n",
       "      <td>P124149.4.2</td>\n",
       "      <td>o 2</td>\n",
       "    </tr>\n",
       "    <tr>\n",
       "      <th>4</th>\n",
       "      <td>2(diš)[]NU</td>\n",
       "      <td>epsd2/admin/u3adm/P124149</td>\n",
       "      <td>5</td>\n",
       "      <td>P124149.5.1</td>\n",
       "      <td>o 3</td>\n",
       "    </tr>\n",
       "  </tbody>\n",
       "</table>\n",
       "</div>"
      ],
      "text/plain": [
       "         lemma                    id_text  id_line      id_word label\n",
       "0   3(diš)[]NU  epsd2/admin/u3adm/P124149        3  P124149.3.1   o 1\n",
       "1  udu[sheep]N  epsd2/admin/u3adm/P124149        3  P124149.3.2   o 1\n",
       "2   6(diš)[]NU  epsd2/admin/u3adm/P124149        4  P124149.4.1   o 2\n",
       "3      u[ewe]N  epsd2/admin/u3adm/P124149        4  P124149.4.2   o 2\n",
       "4   2(diš)[]NU  epsd2/admin/u3adm/P124149        5  P124149.5.1   o 3"
      ]
     },
     "execution_count": 7,
     "metadata": {},
     "output_type": "execute_result"
    }
   ],
   "source": [
    "parsed = pd.read_csv('output/parsed.csv')\n",
    "parsed.head()"
   ]
  },
  {
   "cell_type": "code",
   "execution_count": 8,
   "metadata": {},
   "outputs": [
    {
     "data": {
      "text/plain": [
       "0    124149\n",
       "1    124149\n",
       "2    124149\n",
       "3    124149\n",
       "4    124149\n",
       "Name: id_text, dtype: object"
      ]
     },
     "execution_count": 8,
     "metadata": {},
     "output_type": "execute_result"
    }
   ],
   "source": [
    "parsed.id_text.str[-6:].head()"
   ]
  },
  {
   "cell_type": "code",
   "execution_count": 9,
   "metadata": {},
   "outputs": [
    {
     "data": {
      "text/plain": [
       "(552802, 5)"
      ]
     },
     "execution_count": 9,
     "metadata": {},
     "output_type": "execute_result"
    }
   ],
   "source": [
    "filtered = parsed.loc[parsed.id_text.str[-6:].isin(drehem_p_numbers), :]\n",
    "filtered.shape"
   ]
  },
  {
   "cell_type": "code",
   "execution_count": 10,
   "metadata": {},
   "outputs": [],
   "source": [
    "filtered.to_csv('output/filtered.csv')"
   ]
  }
 ],
 "metadata": {
  "kernelspec": {
   "display_name": "Python 3",
   "language": "python",
   "name": "python3"
  },
  "language_info": {
   "codemirror_mode": {
    "name": "ipython",
    "version": 3
   },
   "file_extension": ".py",
   "mimetype": "text/x-python",
   "name": "python",
   "nbconvert_exporter": "python",
   "pygments_lexer": "ipython3",
   "version": "3.7.4"
  }
 },
 "nbformat": 4,
 "nbformat_minor": 4
}
