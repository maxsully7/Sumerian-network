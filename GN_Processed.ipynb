{
 "cells": [
  {
   "cell_type": "code",
   "execution_count": 1,
   "metadata": {},
   "outputs": [],
   "source": [
    "import pandas as pd\n",
    "import numpy as np"
   ]
  },
  {
   "cell_type": "markdown",
   "metadata": {},
   "source": [
    "Generate a dataframe where the primary keys are geographic names. For each GN, a list of p numbers it appears, a list of neighbors for each p number, and a list of dates based on p number."
   ]
  },
  {
   "cell_type": "code",
   "execution_count": 2,
   "metadata": {},
   "outputs": [],
   "source": [
    "files = ['filtered_'+str(n)+'_with_neighbors_normalized.csv' for n in range(1,10)]"
   ]
  },
  {
   "cell_type": "code",
   "execution_count": 3,
   "metadata": {},
   "outputs": [],
   "source": [
    "geo_names = {}\n",
    "p_number = ''\n",
    "places = []\n",
    "geo_names_list = []\n",
    "\n",
    "for file in files:\n",
    "    f = pd.read_csv(file)\n",
    "    for index, row in f.iterrows():\n",
    "        if row['id_word'][:7] != p_number:\n",
    "            geo_names[p_number] = places\n",
    "            p_number = row['id_word'][:7]\n",
    "            places = []\n",
    "        w = row['lemma']\n",
    "        if w[-2:]=='GN':\n",
    "            places.append(w)\n",
    "            if w not in geo_names_list:\n",
    "                geo_names_list.append(w)\n",
    "geo_names[p_number] = [places]\n",
    "del geo_names['']"
   ]
  },
  {
   "cell_type": "code",
   "execution_count": 34,
   "metadata": {},
   "outputs": [],
   "source": [
    "geo_dict = {}\n",
    "geo_neighbors = {}\n",
    "\n",
    "for p in geo_names:\n",
    "    lst = geo_names[p]\n",
    "    for gn in lst:\n",
    "        if isinstance(gn, str):\n",
    "            if gn in geo_dict:\n",
    "                geo_dict[gn].append(p)\n",
    "            else:\n",
    "                geo_dict[gn] = [p]\n",
    "            if gn in geo_neighbors:\n",
    "                geo_neighbors[gn][p] = [i for i in lst if i != gn]\n",
    "            else:\n",
    "                geo_neighbors[gn] = {p: [i for i in lst if i != gn]}"
   ]
  },
  {
   "cell_type": "code",
   "execution_count": 37,
   "metadata": {},
   "outputs": [
    {
     "data": {
      "text/html": [
       "<div>\n",
       "<style scoped>\n",
       "    .dataframe tbody tr th:only-of-type {\n",
       "        vertical-align: middle;\n",
       "    }\n",
       "\n",
       "    .dataframe tbody tr th {\n",
       "        vertical-align: top;\n",
       "    }\n",
       "\n",
       "    .dataframe thead th {\n",
       "        text-align: right;\n",
       "    }\n",
       "</style>\n",
       "<table border=\"1\" class=\"dataframe\">\n",
       "  <thead>\n",
       "    <tr style=\"text-align: right;\">\n",
       "      <th></th>\n",
       "      <th>geo_name</th>\n",
       "      <th>p_nums</th>\n",
       "      <th>neighbors</th>\n",
       "    </tr>\n",
       "  </thead>\n",
       "  <tbody>\n",
       "    <tr>\n",
       "      <td>0</td>\n",
       "      <td>tum-ma-al{ki}[]GN</td>\n",
       "      <td>[P124149, P103274, P107843, P134976, P131918, ...</td>\n",
       "      <td>{'P124149': ['eridu{ki}[]GN'], 'P103274': ['ša...</td>\n",
       "    </tr>\n",
       "    <tr>\n",
       "      <td>1</td>\n",
       "      <td>eridu{ki}[]GN</td>\n",
       "      <td>[P124149, P107420, P212153, P126352, P210370, ...</td>\n",
       "      <td>{'P124149': ['tum-ma-al{ki}[]GN'], 'P107420': ...</td>\n",
       "    </tr>\n",
       "    <tr>\n",
       "      <td>2</td>\n",
       "      <td>unu{ki}[]GN</td>\n",
       "      <td>[P405489, P104590, P103800, P107843, P123981, ...</td>\n",
       "      <td>{'P405489': [], 'P104590': ['nibru{ki}-a[]GN',...</td>\n",
       "    </tr>\n",
       "    <tr>\n",
       "      <td>3</td>\n",
       "      <td>zimbir{ki}[]GN</td>\n",
       "      <td>[P332036, P131582, P111934, P117626, P134703, ...</td>\n",
       "      <td>{'P332036': ['uri₅{ki}-ma[]GN', 'mu-ri-iq-ti-i...</td>\n",
       "    </tr>\n",
       "    <tr>\n",
       "      <td>4</td>\n",
       "      <td>uri₅{ki}-ma[]GN</td>\n",
       "      <td>[P332036, P124307, P103657, P106357, P104590, ...</td>\n",
       "      <td>{'P332036': ['zimbir{ki}[]GN', 'mu-ri-iq-ti-id...</td>\n",
       "    </tr>\n",
       "  </tbody>\n",
       "</table>\n",
       "</div>"
      ],
      "text/plain": [
       "            geo_name                                             p_nums  \\\n",
       "0  tum-ma-al{ki}[]GN  [P124149, P103274, P107843, P134976, P131918, ...   \n",
       "1      eridu{ki}[]GN  [P124149, P107420, P212153, P126352, P210370, ...   \n",
       "2        unu{ki}[]GN  [P405489, P104590, P103800, P107843, P123981, ...   \n",
       "3     zimbir{ki}[]GN  [P332036, P131582, P111934, P117626, P134703, ...   \n",
       "4    uri₅{ki}-ma[]GN  [P332036, P124307, P103657, P106357, P104590, ...   \n",
       "\n",
       "                                           neighbors  \n",
       "0  {'P124149': ['eridu{ki}[]GN'], 'P103274': ['ša...  \n",
       "1  {'P124149': ['tum-ma-al{ki}[]GN'], 'P107420': ...  \n",
       "2  {'P405489': [], 'P104590': ['nibru{ki}-a[]GN',...  \n",
       "3  {'P332036': ['uri₅{ki}-ma[]GN', 'mu-ri-iq-ti-i...  \n",
       "4  {'P332036': ['zimbir{ki}[]GN', 'mu-ri-iq-ti-id...  "
      ]
     },
     "execution_count": 37,
     "metadata": {},
     "output_type": "execute_result"
    }
   ],
   "source": [
    "d = {'geo_name':list(geo_dict.keys()),'p_nums': list(geo_dict.values())}\n",
    "geo_df = pd.DataFrame.from_dict(data = d)\n",
    "geo_df.loc[:, 'neighbors'] = geo_df['geo_name'].map(geo_neighbors)\n",
    "geo_df.head()"
   ]
  },
  {
   "cell_type": "code",
   "execution_count": null,
   "metadata": {},
   "outputs": [],
   "source": []
  }
 ],
 "metadata": {
  "kernelspec": {
   "display_name": "Python 3",
   "language": "python",
   "name": "python3"
  },
  "language_info": {
   "codemirror_mode": {
    "name": "ipython",
    "version": 3
   },
   "file_extension": ".py",
   "mimetype": "text/x-python",
   "name": "python",
   "nbconvert_exporter": "python",
   "pygments_lexer": "ipython3",
   "version": "3.7.4"
  }
 },
 "nbformat": 4,
 "nbformat_minor": 4
}
