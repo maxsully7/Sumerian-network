{
 "cells": [
  {
   "cell_type": "markdown",
   "metadata": {},
   "source": [
    "# Converting BDTNS dates to Processed Dates\n",
    "\n",
    "The purpose of this notebook is to take the dates from the Drehem dataset and convert to dates that are easier to work with. The 0th date in the processed dates is the beginning of Ur-Namma's period. "
   ]
  },
  {
   "cell_type": "markdown",
   "metadata": {},
   "source": [
    "# 1. Getting text file from BDTNS\n",
    "\n",
    "In order to get P numbers and dates, go to \n",
    "http://bdtns.filol.csic.es/ \n",
    "\n",
    "In the Catalogue & Transliteration drop down menu choose \"Search\" \n",
    "\n",
    "In the Search form go to Provenience (another drop down menu) and choose Puzrish-Dagan (the ancient name of Drehem) and hit \"Search\". This will yield a long list of all tablets from Drehem - some 15,000 of them. In the left pane there is an Export button. Once you hit the button you get a number of options. Select \"CDLI number\" (= P number) and Date and hit \"export\". This will produce a .txt file that you can manipulate further.\n"
   ]
  },
  {
   "cell_type": "markdown",
   "metadata": {},
   "source": [
    "Importing information from text file as a dataframe"
   ]
  },
  {
   "cell_type": "code",
   "execution_count": 3,
   "metadata": {},
   "outputs": [],
   "source": [
    "import pandas as pd\n",
    "TEXT_FILE_PATH = \"bdtns_metadata/query_cat_19_09_20-071746.txt\"\n",
    "drehem_date_data = pd.read_csv(TEXT_FILE_PATH, delimiter='\\t', header=None)"
   ]
  },
  {
   "cell_type": "markdown",
   "metadata": {},
   "source": [
    "Column 1 contains the CDLI numbers and Column 2 contains the unprocessed dates."
   ]
  },
  {
   "cell_type": "code",
   "execution_count": 4,
   "metadata": {},
   "outputs": [
    {
     "data": {
      "text/html": [
       "<div>\n",
       "<style scoped>\n",
       "    .dataframe tbody tr th:only-of-type {\n",
       "        vertical-align: middle;\n",
       "    }\n",
       "\n",
       "    .dataframe tbody tr th {\n",
       "        vertical-align: top;\n",
       "    }\n",
       "\n",
       "    .dataframe thead th {\n",
       "        text-align: right;\n",
       "    }\n",
       "</style>\n",
       "<table border=\"1\" class=\"dataframe\">\n",
       "  <thead>\n",
       "    <tr style=\"text-align: right;\">\n",
       "      <th></th>\n",
       "      <th>0</th>\n",
       "      <th>1</th>\n",
       "      <th>2</th>\n",
       "    </tr>\n",
       "  </thead>\n",
       "  <tbody>\n",
       "    <tr>\n",
       "      <th>0</th>\n",
       "      <td>38699</td>\n",
       "      <td>P142785</td>\n",
       "      <td>IS01 - 07 - 00</td>\n",
       "    </tr>\n",
       "    <tr>\n",
       "      <th>1</th>\n",
       "      <td>38700</td>\n",
       "      <td>P142787</td>\n",
       "      <td>SS05 - 06 - 12</td>\n",
       "    </tr>\n",
       "    <tr>\n",
       "      <th>2</th>\n",
       "      <td>38701</td>\n",
       "      <td>P142788</td>\n",
       "      <td>SH48 - 12 - 20</td>\n",
       "    </tr>\n",
       "    <tr>\n",
       "      <th>3</th>\n",
       "      <td>38702</td>\n",
       "      <td>P142789</td>\n",
       "      <td>SS04 - XX - 15</td>\n",
       "    </tr>\n",
       "    <tr>\n",
       "      <th>4</th>\n",
       "      <td>38703</td>\n",
       "      <td>P142790</td>\n",
       "      <td>XXXX - 01 - 01</td>\n",
       "    </tr>\n",
       "    <tr>\n",
       "      <th>5</th>\n",
       "      <td>38704</td>\n",
       "      <td>P142791</td>\n",
       "      <td>AS06 - 11 - 19</td>\n",
       "    </tr>\n",
       "    <tr>\n",
       "      <th>6</th>\n",
       "      <td>38706</td>\n",
       "      <td>P142793</td>\n",
       "      <td>SS07 - 11 - 00</td>\n",
       "    </tr>\n",
       "  </tbody>\n",
       "</table>\n",
       "</div>"
      ],
      "text/plain": [
       "       0        1               2\n",
       "0  38699  P142785  IS01 - 07 - 00\n",
       "1  38700  P142787  SS05 - 06 - 12\n",
       "2  38701  P142788  SH48 - 12 - 20\n",
       "3  38702  P142789  SS04 - XX - 15\n",
       "4  38703  P142790  XXXX - 01 - 01\n",
       "5  38704  P142791  AS06 - 11 - 19\n",
       "6  38706  P142793  SS07 - 11 - 00"
      ]
     },
     "execution_count": 4,
     "metadata": {},
     "output_type": "execute_result"
    }
   ],
   "source": [
    "drehem_date_data.head(7)"
   ]
  },
  {
   "cell_type": "markdown",
   "metadata": {},
   "source": [
    "#  2. Removing rows with null dates"
   ]
  },
  {
   "cell_type": "code",
   "execution_count": 5,
   "metadata": {},
   "outputs": [],
   "source": [
    "dates = drehem_date_data[2]\n",
    "drehem_date_data = drehem_date_data[~dates.isna()]"
   ]
  },
  {
   "cell_type": "markdown",
   "metadata": {},
   "source": [
    "Mapping KINGS to years. We subtract the years from the bias as we want processed dates to start from the beginning of Ur-Namma's reigning period as 0. \n",
    "\n",
    "The names mapping is not used later in the code but is there to show which abbreviation stands for whom. "
   ]
  },
  {
   "cell_type": "code",
   "execution_count": 6,
   "metadata": {},
   "outputs": [],
   "source": [
    "BIAS = 2112\n",
    "\n",
    "KINGS = {\n",
    "\t'Ur-Namma': (BIAS - 2112, BIAS - 2095),\n",
    "\t'SH': (BIAS - 2094, BIAS - 2047),\n",
    "\t'AS': (BIAS - 2046, BIAS - 2038),\n",
    "\t'SS': (BIAS - 2037, BIAS - 2029),\n",
    "\t'IS': (BIAS - 2028, BIAS - 2004)\n",
    "}\n",
    "\n",
    "\n",
    "names = {'IS': 'Ibbi-Suen',\n",
    "         'SS': 'Shu-Suen',\n",
    "         'AS': 'Amar-Suen',\n",
    "         'SH': 'Shulgi',\n",
    "        }"
   ]
  },
  {
   "cell_type": "markdown",
   "metadata": {},
   "source": [
    "# 3. Converting months and days to appropriate decimal representation"
   ]
  },
  {
   "cell_type": "markdown",
   "metadata": {},
   "source": [
    "If any part of the dates has an invalid value, we represent it as 0 in this dataset. The catch_num_formatting function converts a number to its appropriate value for adding to the total date.\n",
    "\n",
    "For example, **catch_num_formatting(07, '0.')** would return 0.07. This value would then be added to the total date as month. \n",
    "\n",
    "To represent month, we call **catch_num_formatting(month, '0.')**.<br />\n",
    "To represent a day, we call **catch_num_formatting(day, '0.00')**.\n",
    "\n",
    "Note: Could also choose to exclude it from entire dataset if needed"
   ]
  },
  {
   "cell_type": "code",
   "execution_count": 7,
   "metadata": {},
   "outputs": [],
   "source": [
    "INVALID_DATES = {'00', '--', '--,', 'XX', '??'}\n",
    "\n",
    "def catch_num_formatting(number, decimal):\n",
    "    if number in INVALID_DATES or 'x' in number:\n",
    "        return 0\n",
    "    try:\n",
    "        return float(decimal + number)\n",
    "    except ValueError:\n",
    "        print('num formatting', number)\n",
    "        return 0"
   ]
  },
  {
   "cell_type": "markdown",
   "metadata": {},
   "source": [
    "Here is an example of converting a singular date to a proccessed date. Splitting the date by '-' and stripping them of white spaces seperates the year, month, and day into 3 strings. \n",
    "\n",
    "The processed date is the summation of the year, the converted month, and the converted date. The first two characters of the string contain information about the King(retrieved from the KINGS mapping) and the last two characters specify the amount of years into the king's period. "
   ]
  },
  {
   "cell_type": "code",
   "execution_count": 8,
   "metadata": {},
   "outputs": [
    {
     "name": "stdout",
     "output_type": "stream",
     "text": [
      "['IS01 ', ' 07 ', ' 00']\n",
      "processed 85.07\n"
     ]
    }
   ],
   "source": [
    "a_date = drehem_date_data[2][0].split('-')\n",
    "print(a_date)\n",
    "year = a_date[0].strip()\n",
    "month = a_date[1].strip()\n",
    "day = a_date[2].strip()\n",
    "\n",
    "\n",
    "processed = KINGS[year[0:2]][0]+int(year[2:]) + catch_num_formatting(month, '0.') + catch_num_formatting(day, '0.00')\n",
    "print('processed',processed)"
   ]
  },
  {
   "cell_type": "markdown",
   "metadata": {},
   "source": [
    "Processing all dates in dataframe from txt file"
   ]
  },
  {
   "cell_type": "code",
   "execution_count": 9,
   "metadata": {},
   "outputs": [
    {
     "name": "stdout",
     "output_type": "stream",
     "text": [
      "This date caused an error:  AS08 01 - XX+7\n",
      "This date caused an error:  IS01 12d - 00\n",
      "num formatting 0l\n"
     ]
    },
    {
     "data": {
      "text/html": [
       "<div>\n",
       "<style scoped>\n",
       "    .dataframe tbody tr th:only-of-type {\n",
       "        vertical-align: middle;\n",
       "    }\n",
       "\n",
       "    .dataframe tbody tr th {\n",
       "        vertical-align: top;\n",
       "    }\n",
       "\n",
       "    .dataframe thead th {\n",
       "        text-align: right;\n",
       "    }\n",
       "</style>\n",
       "<table border=\"1\" class=\"dataframe\">\n",
       "  <thead>\n",
       "    <tr style=\"text-align: right;\">\n",
       "      <th></th>\n",
       "      <th>0</th>\n",
       "      <th>1</th>\n",
       "      <th>2</th>\n",
       "      <th>3</th>\n",
       "    </tr>\n",
       "  </thead>\n",
       "  <tbody>\n",
       "    <tr>\n",
       "      <th>0</th>\n",
       "      <td>38699</td>\n",
       "      <td>P142785</td>\n",
       "      <td>IS01 - 07 - 00</td>\n",
       "      <td>85.0700</td>\n",
       "    </tr>\n",
       "    <tr>\n",
       "      <th>1</th>\n",
       "      <td>38700</td>\n",
       "      <td>P142787</td>\n",
       "      <td>SS05 - 06 - 12</td>\n",
       "      <td>80.0612</td>\n",
       "    </tr>\n",
       "    <tr>\n",
       "      <th>2</th>\n",
       "      <td>38701</td>\n",
       "      <td>P142788</td>\n",
       "      <td>SH48 - 12 - 20</td>\n",
       "      <td>66.1220</td>\n",
       "    </tr>\n",
       "    <tr>\n",
       "      <th>3</th>\n",
       "      <td>38702</td>\n",
       "      <td>P142789</td>\n",
       "      <td>SS04 - XX - 15</td>\n",
       "      <td>79.0015</td>\n",
       "    </tr>\n",
       "    <tr>\n",
       "      <th>4</th>\n",
       "      <td>38703</td>\n",
       "      <td>P142790</td>\n",
       "      <td>XXXX - 01 - 01</td>\n",
       "      <td>0.0101</td>\n",
       "    </tr>\n",
       "  </tbody>\n",
       "</table>\n",
       "</div>"
      ],
      "text/plain": [
       "       0        1               2        3\n",
       "0  38699  P142785  IS01 - 07 - 00  85.0700\n",
       "1  38700  P142787  SS05 - 06 - 12  80.0612\n",
       "2  38701  P142788  SH48 - 12 - 20  66.1220\n",
       "3  38702  P142789  SS04 - XX - 15  79.0015\n",
       "4  38703  P142790  XXXX - 01 - 01   0.0101"
      ]
     },
     "execution_count": 9,
     "metadata": {},
     "output_type": "execute_result"
    }
   ],
   "source": [
    "def process_dates(a_date):\n",
    "    try:\n",
    "        if a_date not in INVALID_DATES:\n",
    "            split_date = a_date.split('-')\n",
    "            year = process_year(split_date[0])\n",
    "            month = split_date[1].strip()[0:2]\n",
    "            day = split_date[2].strip()[0:2]\n",
    "            processed = year + catch_num_formatting(month, '0.') + catch_num_formatting(day, '0.00')\n",
    "            return processed\n",
    "    except:\n",
    "        print('This date caused an error: ',a_date)\n",
    "        return 0\n",
    "\n",
    "def process_year(year):\n",
    "    try:\n",
    "        if year[0:2] in INVALID_DATES:\n",
    "            return 0\n",
    "        else:\n",
    "            return KINGS[year[0:2]][0]+int(year[2:])\n",
    "    except:\n",
    "        return 0\n",
    "        \n",
    "drehem_date_data[3] = drehem_date_data[2].apply(process_dates)\n",
    "drehem_date_data[drehem_date_data[2]!=0].head()\n"
   ]
  },
  {
   "cell_type": "code",
   "execution_count": 10,
   "metadata": {},
   "outputs": [
    {
     "data": {
      "text/html": [
       "<div>\n",
       "<style scoped>\n",
       "    .dataframe tbody tr th:only-of-type {\n",
       "        vertical-align: middle;\n",
       "    }\n",
       "\n",
       "    .dataframe tbody tr th {\n",
       "        vertical-align: top;\n",
       "    }\n",
       "\n",
       "    .dataframe thead th {\n",
       "        text-align: right;\n",
       "    }\n",
       "</style>\n",
       "<table border=\"1\" class=\"dataframe\">\n",
       "  <thead>\n",
       "    <tr style=\"text-align: right;\">\n",
       "      <th></th>\n",
       "      <th>BDTNS No</th>\n",
       "      <th>CDLI No</th>\n",
       "      <th>Original date</th>\n",
       "      <th>Converted Date</th>\n",
       "    </tr>\n",
       "  </thead>\n",
       "  <tbody>\n",
       "    <tr>\n",
       "      <th>0</th>\n",
       "      <td>38699</td>\n",
       "      <td>P142785</td>\n",
       "      <td>IS01 - 07 - 00</td>\n",
       "      <td>85.0700</td>\n",
       "    </tr>\n",
       "    <tr>\n",
       "      <th>1</th>\n",
       "      <td>38700</td>\n",
       "      <td>P142787</td>\n",
       "      <td>SS05 - 06 - 12</td>\n",
       "      <td>80.0612</td>\n",
       "    </tr>\n",
       "    <tr>\n",
       "      <th>2</th>\n",
       "      <td>38701</td>\n",
       "      <td>P142788</td>\n",
       "      <td>SH48 - 12 - 20</td>\n",
       "      <td>66.1220</td>\n",
       "    </tr>\n",
       "  </tbody>\n",
       "</table>\n",
       "</div>"
      ],
      "text/plain": [
       "   BDTNS No  CDLI No   Original date  Converted Date\n",
       "0     38699  P142785  IS01 - 07 - 00         85.0700\n",
       "1     38700  P142787  SS05 - 06 - 12         80.0612\n",
       "2     38701  P142788  SH48 - 12 - 20         66.1220"
      ]
     },
     "execution_count": 10,
     "metadata": {},
     "output_type": "execute_result"
    }
   ],
   "source": [
    "#adding column names\n",
    "drehem_date_data.rename(columns={0: 'BDTNS No', 1: 'CDLI No', 2: 'Original date', 3:'Converted Date'}, inplace = True)\n",
    "drehem_date_data.head(3)"
   ]
  },
  {
   "cell_type": "markdown",
   "metadata": {},
   "source": [
    "# 4. Writing to CSV"
   ]
  },
  {
   "cell_type": "code",
   "execution_count": 14,
   "metadata": {},
   "outputs": [],
   "source": [
    "drehem_date_data.to_csv(\"bdtns_metadata/dates.csv\")"
   ]
  },
  {
   "cell_type": "code",
   "execution_count": 15,
   "metadata": {},
   "outputs": [
    {
     "name": "stdout",
     "output_type": "stream",
     "text": [
      "Removed the following rows in visualization:\n",
      "Empty DataFrame\n",
      "Columns: [BDTNS No, CDLI No, Original date, Converted Date]\n",
      "Index: []\n"
     ]
    }
   ],
   "source": [
    "#outlier\n",
    "#removed from dataset for visualization purposes\n",
    "\n",
    "print('Removed the following rows in visualization:')\n",
    "print(drehem_date_data[drehem_date_data['Converted Date']>400])\n",
    "drehem_date_data = drehem_date_data[drehem_date_data['Converted Date']<400]\n",
    "\n"
   ]
  },
  {
   "cell_type": "code",
   "execution_count": 16,
   "metadata": {},
   "outputs": [
    {
     "data": {
      "image/png": "[encoded data removed]",
      "text/plain": [
       "<Figure size 432x288 with 1 Axes>"
      ]
     },
     "metadata": {},
     "output_type": "display_data"
    }
   ],
   "source": [
    "ax = drehem_date_data.plot.scatter(x=0, \n",
    "                                   y = 'Converted Date',)"
   ]
  },
  {
   "cell_type": "code",
   "execution_count": null,
   "metadata": {},
   "outputs": [],
   "source": []
  },
  {
   "cell_type": "code",
   "execution_count": null,
   "metadata": {},
   "outputs": [],
   "source": []
  },
  {
   "cell_type": "code",
   "execution_count": null,
   "metadata": {},
   "outputs": [],
   "source": []
  },
  {
   "cell_type": "code",
   "execution_count": null,
   "metadata": {},
   "outputs": [],
   "source": []
  },
  {
   "cell_type": "code",
   "execution_count": null,
   "metadata": {},
   "outputs": [],
   "source": []
  },
  {
   "cell_type": "code",
   "execution_count": null,
   "metadata": {},
   "outputs": [],
   "source": []
  }
 ],
 "metadata": {
  "kernelspec": {
   "display_name": "Python 3",
   "language": "python",
   "name": "python3"
  },
  "language_info": {
   "codemirror_mode": {
    "name": "ipython",
    "version": 3
   },
   "file_extension": ".py",
   "mimetype": "text/x-python",
   "name": "python",
   "nbconvert_exporter": "python",
   "pygments_lexer": "ipython3",
   "version": "3.6.5"
  }
 },
 "nbformat": 4,
 "nbformat_minor": 2
}
