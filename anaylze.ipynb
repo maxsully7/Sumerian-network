{
 "cells": [
  {
   "cell_type": "markdown",
   "metadata": {},
   "source": [
    "# Load python file"
   ]
  },
  {
   "cell_type": "code",
   "execution_count": 2,
   "metadata": {},
   "outputs": [
    {
     "name": "stdout",
     "output_type": "stream",
     "text": [
      "Got transactions from raw-data/p001.atf\n",
      "Got transactions from raw-data/p002.atf\n",
      "Got transactions from raw-data/p003.atf\n",
      "Got transactions from raw-data/p004.atf\n",
      "Got transactions from raw-data/p005.atf\n",
      "Got transactions from raw-data/p006.atf\n",
      "Got transactions from raw-data/p007.atf\n",
      "Got transactions from raw-data/p008.atf\n",
      "Got transactions from raw-data/p009.atf\n",
      "Got transactions from raw-data/p010.atf\n",
      "Got transactions from raw-data/p011.atf\n",
      "Got transactions from raw-data/p012.atf\n",
      "Got transactions from raw-data/p013.atf\n",
      "Got transactions from raw-data/p014.atf\n",
      "Got transactions from raw-data/p015.atf\n",
      "***FINISH***\n",
      "***Total of  67499  transactions.***\n",
      "***Total of  14594  Drehem transactions.***\n",
      "3794  transactions do NOT have PN.\n",
      "33241  transactions contain a word ki[place].\n",
      "10993  transactions contain a word šu ba-ti.\n",
      "590  transactions contain a word ra₂-gaba.\n"
     ]
    }
   ],
   "source": [
    "# %load get_roles_edited.py\n",
    "import re\n",
    "\n",
    "# ORACC_FILE = 'raw-data/p001.atf'\n",
    "DREHEM_P_IDS_FILE = 'drehem_p_ids.txt'\n",
    "\n",
    "NUM_TEXTS = 25\n",
    "# things to keep:\n",
    "#\tset: (p_index)\n",
    "#\tdictionary: {p_index: transaction}\n",
    "#\tobject transaction has p_index, source, receiver, \n",
    "\n",
    "complete_transaction_ls = list()\n",
    "drehem_transaction_ls = list()\n",
    "\n",
    "complete_drehem_p_sets = set()\n",
    "p_sets_of_interest = set()\n",
    "transaction_ls = list()\n",
    "\n",
    "class Transaction:\n",
    "\tdef __init__(self, p, line):\n",
    "\t\tself.p_index = p\n",
    "\t\t# can add date/place/etc.\n",
    "\t\tself.roles = {}\n",
    "\t\t# role name: name of person (ex. 'source': 'Turamdatan')\n",
    "\t\tself.people = set()\n",
    "\n",
    "\t\tself.line = line;\n",
    "\t\t\n",
    "\n",
    "\t\tself.ls_lines_containing_PN = list()\n",
    "\t\t# ls of lines containing PN\n",
    "\n",
    "\tdef __str__(self):\n",
    "\t\treturn 'P' + str(self.p_index) + '\\nlines: ' + self.line \n",
    "\t\t# + '\\n\\t' + str(self.people)\n",
    "\tdef get_num_people(self):\n",
    "\t\treturn len(self.people)\n",
    "\n",
    "def get_p_index(line):\n",
    "\t# line of the form '&P100259 = ...': return '100259'\n",
    "\treturn line.split(' ')[0][2:]\n",
    "\n",
    "\n",
    "def get_drehem_p_ids():\n",
    "\twith open(DREHEM_P_IDS_FILE) as read_file:\n",
    "\t\tfor line in read_file:\n",
    "\t\t\tcomplete_drehem_p_sets.add(line[:-1])\n",
    "\treturn complete_drehem_p_sets\n",
    "\n",
    "def collect_p_id_of_interest(file_name):\n",
    "\tget_drehem_p_ids();\n",
    "\twith open(file_name) as input_file:\n",
    "\t\tcount = 0\n",
    "\t\tfor line in input_file:\n",
    "\t\t\tline = line.strip()# remove \\n\n",
    "\t\t\tif line.startswith('&P'):\n",
    "\t\t\t\tp_id = get_p_index(line);\n",
    "\t\t\t\tif p_id in complete_drehem_p_sets:\n",
    "\t\t\t\t\tp_sets_of_interest.add(p_id);\n",
    "\t# print( p_sets_of_interest)\n",
    "\treturn p_sets_of_interest\n",
    "\n",
    "def get_transactions(file_name, p_id_set_sort=None):\n",
    "\t\n",
    "\twith open(file_name) as input_file:\n",
    "\t\tcurrentTransaction = None;\n",
    "\t\tfor line in input_file:\n",
    "\t\t\tline = line.strip() # remove \\n\n",
    "\t\t\tif line.startswith('&P'):\n",
    "\t\t\t\tif currentTransaction is None:\t\t\n",
    "\t\t\t\t\tp_index = get_p_index(line)\n",
    "\t\t\t\t\tcurrentTransaction = Transaction(p_index, line)\n",
    "\t\t\t\telse:\n",
    "\t\t\t\t\tif p_id_set_sort is None or currentTransaction.p_index in p_id_set_sort:\n",
    "\t\t\t\t\t\ttransaction_ls.append(currentTransaction) # add the transaction to the list\n",
    "\t\t\t\t\t\n",
    "\n",
    "\t\t\t\t\tp_index = get_p_index(line)\n",
    "\t\t\t\t\tcurrentTransaction = Transaction(p_index, line) # start a new transaction\n",
    "\t\t\telse:\n",
    "\t\t\t\tcurrentTransaction.line += \"\\n\" + line;\n",
    "\n",
    "\t\t# add the last transaction to the list\n",
    "\t\tif p_id_set_sort is None or currentTransaction.p_index in p_id_set_sort:\n",
    "\t\t\ttransaction_ls.append(currentTransaction)\n",
    "\t\t\n",
    "\t# print(len(transaction_ls))\n",
    "\t# print(transaction_ls[-1])\n",
    "\treturn transaction_ls\n",
    "\n",
    "\n",
    "# with open(ORACC_FILE) as input_file:\n",
    "# \tfor line in input_file:\n",
    "# \t\tline = line.strip()\n",
    "# \t\tif not re.match(r'^&P|^#lem|^\\d+\\.|^@|^#|^\\$|^\\d+ʾ\\.|^=:|^\\s+$|^$', line):\n",
    "# \t\t\tprint(line);\n",
    "\t\t# if re.match(r'^&P|^#lem|^\\d+\\.|^\\d+ʾ\\.', line):\n",
    "\t\t# \tprint(line)\n",
    "\t\t# elif re.match(r'|^\\s+$|^$', line):\n",
    "\t\t\t#ignore\n",
    "\t\t# elif re.match(r'^@|^#|^\\$|')\n",
    "def clean_transaction(transaction):\n",
    "\t# change the whole transaction.line into\n",
    "\t# a list of important text, discarding unimportant lines\n",
    "\t# transaction.line = [\"1. ~~ #lem: ~~\" ... ]\n",
    "\n",
    "\t# print(transaction.p_index)\n",
    "\tsearchObj = re.findall(r'(\\d+ʾ\\..*\\n#lem:.*|\\d+\\..*\\n#lem:.*)', transaction.line)\n",
    "\t\n",
    "\ttransaction.line = searchObj\n",
    "\n",
    "\n",
    "def get_PN(transaction):\n",
    "\t# get the list of lines containing PN --> transaction.ls_lines_containing_PN\n",
    "\t# get the set of PN --> transaction.people\n",
    "\ttxt,translit = None, None\n",
    "\tfor line in transaction.line:\n",
    "\t\tif \"PN\" in line:\n",
    "\t\t\ttransaction.ls_lines_containing_PN.append(line)\n",
    "\n",
    "\t\t\t\n",
    "\tfor line in transaction.ls_lines_containing_PN:\n",
    "\t\ttxt,translit = line.split(\"\\n\")\n",
    "\t\t\n",
    "\t\ttranslit = translit.replace(\"#lem: \",\"\")\n",
    "\t\t\n",
    "\t\ttranslit, txt = translit.split(\";\"), txt.split(\" \")[1:]\n",
    "\n",
    "\t\tfor index, word  in enumerate(translit):\n",
    "\t\t    if \"PN\" in word:\n",
    "\t\t        # print(translit, txt, index)\n",
    "\n",
    "\t\t        transaction.people.add(txt[index])\n",
    "\t# if len(transaction.people) == 0:\n",
    "\t# \tprint(transaction.line,txt, translit, transaction.p_index)\n",
    "\n",
    "\t# print(transaction.people)\n",
    "\n",
    "\n",
    "def process_files():\n",
    "\t#return a complete list of transactions out of all input files\n",
    "\tglobal p_sets_of_interest\n",
    "\tglobal transaction_ls\n",
    "\tglobal complete_transaction_ls\n",
    "\tglobal drehem_transaction_ls\n",
    "\ti = 1; # oracc file number\n",
    "\n",
    "\n",
    "\t\n",
    "\twhile i <= 15:\n",
    "\t\tp_sets_of_interest = set()\n",
    "\t\ttransaction_ls = list()\n",
    "\t\tif i < 10:\n",
    "\t\t\tORACC_FILE = 'raw-data/p00'+str(i)+'.atf'\n",
    "\t\telse:\n",
    "\t\t\tORACC_FILE = 'raw-data/p0'+str(i)+'.atf'\n",
    "\t\tcollect_p_id_of_interest(ORACC_FILE);\n",
    "\n",
    "\t\t#get complete list of transactions\n",
    "\t\tget_transactions(ORACC_FILE);\n",
    "\t\tfor trans in transaction_ls:\t\t\n",
    "\t\t\tclean_transaction(trans)\n",
    "\t\t\tget_PN(trans)\n",
    "\t\tcomplete_transaction_ls += transaction_ls\n",
    "\n",
    "\t\t# get drehem list of transactions\n",
    "\t\t# TO CHANGE LATER (BAD IMPLEMENTATION; READING THE FILE TWICE)\n",
    "\t\ttransaction_ls = list()\n",
    "\t\tget_transactions(ORACC_FILE,p_sets_of_interest);\n",
    "\t\tfor trans in transaction_ls:\t\t\n",
    "\t\t\tclean_transaction(trans)\n",
    "\t\t\tget_PN(trans)\n",
    "\t\tdrehem_transaction_ls += transaction_ls\n",
    "\n",
    "\n",
    "\t\tprint(\"Got transactions from \"+ORACC_FILE)\n",
    "\t\ti+=1\n",
    "\n",
    "\tprint(\"***FINISH***\")\n",
    "\tprint(\"***Total of \", len(complete_transaction_ls), \" transactions.***\")\n",
    "\tprint(\"***Total of \", len(drehem_transaction_ls), \" Drehem transactions.***\")\n",
    "\treturn complete_transaction_ls\n",
    "\n",
    "def main():\n",
    "\tls = process_files()\n",
    "\tno_PN_count = 0\n",
    "\tcontain_ki_count = 0\n",
    "\tcontain_subati_count = 0\n",
    "\tcontain_ragaba_count = 0\n",
    "\tfor trans in ls:\n",
    "\t\tif trans.get_num_people() == 0:\n",
    "\t\t\tno_PN_count+=1\n",
    "\t\tline = ''.join(trans.line)\n",
    "\t\tif \"ki[place]\" in line:\n",
    "\t\t\tcontain_ki_count += 1\n",
    "\t\t\t\n",
    "\t\tif \"šu ba-ti\" in line:\n",
    "\t\t\tcontain_subati_count += 1\n",
    "\t\tif \"ra₂-gaba\" in line:\n",
    "\t\t\tcontain_ragaba_count += 1\n",
    "\n",
    "\n",
    "\tprint(no_PN_count, \" transactions do NOT have PN.\")\n",
    "\tprint(contain_ki_count, \" transactions contain a word ki[place].\")\n",
    "\tprint(contain_subati_count, \" transactions contain a word šu ba-ti.\")\n",
    "\tprint(contain_ragaba_count, \" transactions contain a word ra₂-gaba.\")\n",
    "\n",
    "main()\n",
    "\n"
   ]
  },
  {
   "cell_type": "code",
   "execution_count": 3,
   "metadata": {},
   "outputs": [],
   "source": [
    "wordsSamelineWithPN_ls = list() # list of words in the same line with PN\n",
    "transLinesContainingPN_ls = list() # list of transliterated lines containing PN\n",
    "for trans in complete_transaction_ls:\n",
    "    for line in trans.ls_lines_containing_PN:\n",
    "        txt,translit = line.split(\"\\n\")\n",
    "        translit = translit.replace(\"#lem: \",\"\")\n",
    "        transLinesContainingPN_ls.append(translit)\n",
    "        translit, txt = translit.split(\";\"), txt.split(\" \")[1:]\n",
    "        wordsSamelineWithPN_ls += [a for a in translit]"
   ]
  },
  {
   "cell_type": "markdown",
   "metadata": {},
   "source": [
    "### Useful Variables"
   ]
  },
  {
   "cell_type": "markdown",
   "metadata": {},
   "source": [
    "* complete_transaction_ls: list of all transactions\n",
    "* drehem_transaction_ls: list of drehem transactions\n",
    "* complete_drehem_p_sets: set of drehem p_id\n",
    "* transLinesContainingPN_ls: list of all lines containing PN\n",
    "* wordsSamelineWithPN_ls: list of all words in the same line with PN\n",
    "\n"
   ]
  },
  {
   "cell_type": "markdown",
   "metadata": {},
   "source": [
    "### Transaction Object\n",
    "* self.p_index\n",
    "* self.people\n",
    "* self.line\n",
    "* self.ls_lines_containing_PN\n",
    "* self.roles, self.place, self.year (possible)"
   ]
  },
  {
   "cell_type": "markdown",
   "metadata": {},
   "source": [
    "# Import Libraries"
   ]
  },
  {
   "cell_type": "code",
   "execution_count": 4,
   "metadata": {
    "collapsed": true
   },
   "outputs": [],
   "source": [
    "from collections import Counter\n",
    "import pandas as pd\n",
    "import matplotlib.pyplot as plt\n",
    "%matplotlib inline"
   ]
  },
  {
   "cell_type": "markdown",
   "metadata": {},
   "source": [
    "# Playing with data"
   ]
  },
  {
   "cell_type": "code",
   "execution_count": 5,
   "metadata": {},
   "outputs": [],
   "source": [
    "s = pd.Series(wordsSamelineWithPN_ls)"
   ]
  },
  {
   "cell_type": "markdown",
   "metadata": {},
   "source": [
    "### export to csv"
   ]
  },
  {
   "cell_type": "code",
   "execution_count": 6,
   "metadata": {
    "collapsed": true
   },
   "outputs": [],
   "source": [
    "s.value_counts().to_csv('SameLineWordsPN.csv')"
   ]
  },
  {
   "cell_type": "code",
   "execution_count": 7,
   "metadata": {},
   "outputs": [
    {
     "data": {
      "text/plain": [
       "1699"
      ]
     },
     "execution_count": 7,
     "metadata": {},
     "output_type": "execute_result"
    }
   ],
   "source": [
    "# number of unique words in the lines containing PN\n",
    "s.value_counts().count()"
   ]
  },
  {
   "cell_type": "code",
   "execution_count": 11,
   "metadata": {},
   "outputs": [
    {
     "data": {
      "text/plain": [
       " PN                         203268\n",
       "PN                           92262\n",
       "n                            59525\n",
       "ki[place]                    31367\n",
       " n                           31193\n",
       "dumu[child]                  20411\n",
       "kišib[seal]                  16666\n",
       " dumu[child]                 12144\n",
       "mu[year]                     12050\n",
       "ŋiri[foot]                   11291\n",
       "ugula[overseer]               8753\n",
       " sila[unit]                   7052\n",
       " lugal[king]                  6846\n",
       " X                            6432\n",
       " dab[seize]                   5311\n",
       " lu[person]                   5086\n",
       " u                            4717\n",
       " GN                           4439\n",
       " maškim[administrator]        3167\n",
       " sukkal[secretary]            3164\n",
       " gur[unit]                    3044\n",
       " sila[lamb]                   2959\n",
       " engar[farmer]                2925\n",
       " udu[sheep]                   2865\n",
       " ugula[overseer]              2786\n",
       "AN                            2641\n",
       " ki[place]                    2555\n",
       " giŋ[unit]                    2456\n",
       " AN                           2455\n",
       "u                             2454\n",
       "                             ...  \n",
       " saŋkešed[strap]                 1\n",
       " šuš[~palsy]                     1\n",
       " mušŋiri[stone]                  1\n",
       "lala[plenty]                     1\n",
       "amuš[unmng]                      1\n",
       " hazin[barley]                   1\n",
       "kisalluh[sweeper]                1\n",
       " zugalum[unmng]                  1\n",
       " salhuba[fisherman]              1\n",
       " gu[voice]                       1\n",
       " ŋešaʾabak[tree]                 1\n",
       "bur[glow]                        1\n",
       " šergu[string]                   1\n",
       "ŋeštin[vine]                     1\n",
       "kimu[storage]                    1\n",
       "esir[shoe]                       1\n",
       "zahadin[vegetable]               1\n",
       " šugura[turban]                  1\n",
       " lugididak[musician]             1\n",
       "KU[strengthen]|KUr[herd]         1\n",
       "gana[come on!]                   1\n",
       "pu[orchard]                      1\n",
       "uri[vessel]                      1\n",
       "kiʾuš[waste]                     1\n",
       "ŋen[go]                          1\n",
       " niŋbuna[turtle]                 1\n",
       " uš[unit]                        1\n",
       "šagsahar[task]                   1\n",
       " šesa[barley]                    1\n",
       " mes[blackness]                  1\n",
       "dtype: int64"
      ]
     },
     "execution_count": 11,
     "metadata": {},
     "output_type": "execute_result"
    }
   ],
   "source": [
    "# most common words in the lines containing PN \n",
    "s.value_counts()"
   ]
  },
  {
   "cell_type": "code",
   "execution_count": 8,
   "metadata": {},
   "outputs": [
    {
     "name": "stdout",
     "output_type": "stream",
     "text": [
      "Total number of peronsal names:  295530 (may contain duplicates)\n"
     ]
    }
   ],
   "source": [
    "print(\"Total number of peronsal names: \", 203268+ 92262, \"(may contain duplicates)\")"
   ]
  },
  {
   "cell_type": "markdown",
   "metadata": {},
   "source": [
    "# Filter out lines containing the above common words \n",
    "To see the context:\n",
    "\n",
    "\"filter_lines(word).value_counts()\""
   ]
  },
  {
   "cell_type": "code",
   "execution_count": 9,
   "metadata": {
    "collapsed": true
   },
   "outputs": [],
   "source": [
    "def filter_lines(word):\n",
    "    # return a series of lines containing the word\n",
    "    return pd.Series(list(filter(lambda x:word in x , transLinesContainingPN_ls)))"
   ]
  },
  {
   "cell_type": "markdown",
   "metadata": {},
   "source": [
    "###  kišib[seal]"
   ]
  },
  {
   "cell_type": "code",
   "execution_count": 10,
   "metadata": {
    "scrolled": true
   },
   "outputs": [
    {
     "data": {
      "text/plain": [
       "kišib[seal]; PN                              12990\n",
       "kišib[seal]; PN; dumu[child]; PN               797\n",
       "kišib[seal]; namšatam[administration]; PN      224\n",
       "n; kišib[seal]; PN                             212\n",
       "n; gur[unit]; kišib[seal]; PN                  166\n",
       "kišib[seal]; PN; PN                            140\n",
       "gabari[copy]; kišib[seal]; PN                  123\n",
       "n; n; kišib[seal]; PN                          122\n",
       "n; udu[sheep]; kišib[seal]; PN                 114\n",
       "kišib[seal]; PN; šabra[administrator]          111\n",
       "dtype: int64"
      ]
     },
     "execution_count": 10,
     "metadata": {},
     "output_type": "execute_result"
    }
   ],
   "source": [
    "filter_lines(\"kišib[seal]\").value_counts().head(10)"
   ]
  },
  {
   "cell_type": "markdown",
   "metadata": {},
   "source": [
    "##### Most Common: \n",
    "1. kišib[seal]; PN --> sealed by that person?"
   ]
  },
  {
   "cell_type": "markdown",
   "metadata": {},
   "source": [
    "### mu[year]"
   ]
  },
  {
   "cell_type": "code",
   "execution_count": 13,
   "metadata": {
    "scrolled": true
   },
   "outputs": [
    {
     "data": {
      "text/plain": [
       "mu[year]; PN; lugal[king]                         3034\n",
       "mu[year]; PN; lugal[king]; GN; hulu[bad]          1327\n",
       "mu[year]; ma[ship]; PN; du[spread]                1287\n",
       "mu[year]; PN                                       973\n",
       "mu[year]; PN; en[priest]; DN; huŋ[hire]            721\n",
       "mu[year]; guza[chair]; PN; dim[create]             493\n",
       "mu[year]; us[follow]; ma[ship]; PN; du[spread]     392\n",
       "mu[year]; ON; PN; dim[create]                      279\n",
       "mu[year]; PN; huŋ[hire]                            275\n",
       "mu[year]; us[follow]; PN; lugal[king]              227\n",
       "dtype: int64"
      ]
     },
     "execution_count": 13,
     "metadata": {},
     "output_type": "execute_result"
    }
   ],
   "source": [
    "filter_lines(\"mu[year]\").value_counts().head(10)"
   ]
  },
  {
   "cell_type": "markdown",
   "metadata": {},
   "source": [
    "##### Most Common:\n",
    "1. mu[year]; PN; lugal[king] --> year of transaction"
   ]
  },
  {
   "cell_type": "markdown",
   "metadata": {},
   "source": [
    "### ŋiri[foot]"
   ]
  },
  {
   "cell_type": "code",
   "execution_count": 14,
   "metadata": {},
   "outputs": [
    {
     "data": {
      "text/plain": [
       "ŋiri[foot]; PN                             6790\n",
       "ŋiri[foot]; PN; dubsar[scribe]             1004\n",
       "ŋiri[foot]; PN; sukkal[secretary]           529\n",
       "ŋiri[foot]; PN; dumu[child]; PN             432\n",
       "ŋiri[foot]; PN; šagia[cup-bearer]           167\n",
       "ŋiri[foot]; PN; šabra[administrator]        166\n",
       "ŋiri[foot]; PN; šarrabdu[administrator]     123\n",
       "ŋiri[foot]; PN; ragaba[rider]               120\n",
       "ŋiri[foot]; PN; PN                           97\n",
       "n; udu[sheep]; ŋiri[foot]; PN                85\n",
       "dtype: int64"
      ]
     },
     "execution_count": 14,
     "metadata": {},
     "output_type": "execute_result"
    }
   ],
   "source": [
    "filter_lines(\"ŋiri[foot]\").value_counts().head(10)"
   ]
  },
  {
   "cell_type": "markdown",
   "metadata": {},
   "source": [
    "##### Most Common:\n",
    "1. ŋiri[foot]; PN --> delivered on foot by that person?\n",
    "2. ŋiri[foot]; PN; dubsar[scribe] --> delivered on foot by a person who is a scribe???\n",
    "8. ŋiri[foot]; PN; ragaba[rider] --> PN's role is the rider"
   ]
  },
  {
   "cell_type": "markdown",
   "metadata": {},
   "source": [
    "### ugula[overseer]"
   ]
  },
  {
   "cell_type": "code",
   "execution_count": 98,
   "metadata": {},
   "outputs": [
    {
     "data": {
      "text/plain": [
       "ugula[overseer]; PN                          7891\n",
       "PN; ugula[overseer]                           293\n",
       "n; ŋuruš[male]; ugula[overseer]; PN           291\n",
       "n; ugula[overseer]; PN                        275\n",
       "ugula[overseer]; PN; PN                       149\n",
       "n; n; ŋuruš[male]; ugula[overseer]; PN        144\n",
       "n; n; ugula[overseer]; PN                     142\n",
       "ugula[overseer]; PN; dumu[child]; PN          131\n",
       "ugula[overseer]; PN; kuš[official]            121\n",
       "ugula[overseer]; PN; šabra[administrator]      90\n",
       "dtype: int64"
      ]
     },
     "execution_count": 98,
     "metadata": {},
     "output_type": "execute_result"
    }
   ],
   "source": [
    "filter_lines(\"ugula[overseer]\").value_counts().head(10)"
   ]
  },
  {
   "cell_type": "markdown",
   "metadata": {
    "collapsed": true
   },
   "source": [
    "##### Most common:\n",
    "1. ugula[overseer]; PN --> that person is the overseer?"
   ]
  },
  {
   "cell_type": "markdown",
   "metadata": {},
   "source": [
    "### ragaba[rider]"
   ]
  },
  {
   "cell_type": "code",
   "execution_count": 25,
   "metadata": {},
   "outputs": [
    {
     "data": {
      "text/plain": [
       "PN; ragaba[rider]                                                123\n",
       "ŋiri[foot]; PN; ragaba[rider]                                    120\n",
       "PN; ragaba[rider]; maškim[administrator]                          68\n",
       "PN; ragaba[rider]; lu[person]; kiŋgia[messenger]; lugal[king]     27\n",
       "kišib[seal]; PN; ragaba[rider]                                    13\n",
       "n; PN; ragaba[rider]                                              10\n",
       "arua[offering]; PN; ragaba[rider]                                  8\n",
       "ragaba[rider]; PN                                                  8\n",
       "mu[year]; PN; ragaba[rider]                                        7\n",
       "n; sila[lamb]; PN; ragaba[rider]                                   6\n",
       "dtype: int64"
      ]
     },
     "execution_count": 25,
     "metadata": {},
     "output_type": "execute_result"
    }
   ],
   "source": [
    "filter_lines(\"ragaba[rider]\").value_counts().head(10)"
   ]
  },
  {
   "cell_type": "code",
   "execution_count": 27,
   "metadata": {},
   "outputs": [
    {
     "data": {
      "text/plain": [
       "ki[place]; PN                          27514\n",
       "ki[place]; PN; PN                       1162\n",
       "ki[place]; PN; dumu[child]; PN           490\n",
       "ziga[expenditure]; ki[place]; PN         168\n",
       "n; ki[place]; PN                         165\n",
       "ki[place]; X; PN                         136\n",
       "ki[place]; PN; šabra[administrator]      135\n",
       "n; udu[sheep]; ki[place]; PN              95\n",
       "n; gud[ox]; ki[place]; PN                 90\n",
       "ki[place]; PN; ašgab[leatherworker]       88\n",
       "dtype: int64"
      ]
     },
     "execution_count": 27,
     "metadata": {},
     "output_type": "execute_result"
    }
   ],
   "source": [
    "filter_lines(\"ki[place]\").value_counts().head(10)"
   ]
  },
  {
   "cell_type": "code",
   "execution_count": 28,
   "metadata": {},
   "outputs": [
    {
     "data": {
      "text/plain": [
       "PN; šu[hand]; teŋ[approach]                                             1620\n",
       "PN; dumu[child]; PN; šu[hand]; teŋ[approach]                              35\n",
       "dumu[child]; PN; šu[hand]; teŋ[approach]                                   8\n",
       "PN; sipad[shepherd]; PN; šu[hand]; teŋ[approach]                           4\n",
       "ugula[overseer]; PN; šu[hand]; teŋ[approach]                               4\n",
       "ki[place]; PN; šu[hand]; teŋ[approach]                                     4\n",
       "uš[die]; PN; šu[hand]; teŋ[approach]                                       4\n",
       "n; PN; šu[hand]; teŋ[approach]                                             4\n",
       "n; gur[unit]; PN; šu[hand]; teŋ[approach]                                  4\n",
       "še[barley]; erin[people]; engar[farmer]; PN; šu[hand]; teŋ[approach]       3\n",
       "dtype: int64"
      ]
     },
     "execution_count": 28,
     "metadata": {},
     "output_type": "execute_result"
    }
   ],
   "source": [
    "filter_lines(\"PN; šu[hand]; teŋ[approach]\").value_counts().head(10)"
   ]
  },
  {
   "cell_type": "markdown",
   "metadata": {},
   "source": [
    "# Experiment "
   ]
  },
  {
   "cell_type": "code",
   "execution_count": 11,
   "metadata": {},
   "outputs": [
    {
     "name": "stdout",
     "output_type": "stream",
     "text": [
      "finished\n"
     ]
    }
   ],
   "source": [
    "# Assume I know how to sort out: source, receiver\n",
    "\n",
    "\n",
    "for trans in complete_transaction_ls:\n",
    "    for line in trans.ls_lines_containing_PN:\n",
    "#         if re.search(r'#lem: ŋiri\\[foot\\]; PN; ragaba\\[rider\\]', line):\n",
    "            \n",
    "#             txt,translit = line.split(\"\\n\")\n",
    "#             translit = translit.replace(\"#lem: \",\"\")\n",
    "#             translit, txt = translit.split(\";\"), txt.split(\" \")[1:]\n",
    "            \n",
    "    \n",
    "#             name = txt[translit.index(\" PN\")]\n",
    "#             role = \"intermediate\"\n",
    "#             profession = \"rider\"\n",
    "#             trans.roles[name] = [role, profession] #adding to the roles\n",
    "        if re.search(r'#lem: PN; šu\\[hand\\]; teŋ\\[approach\\]', line):\n",
    "            txt,translit = line.split(\"\\n\")\n",
    "            translit = translit.replace(\"#lem: \",\"\")\n",
    "            translit, txt = translit.split(\";\"), txt.split(\" \")[1:]\n",
    "            name = txt[translit.index(\"PN\")]\n",
    "            role = \"reciever\"\n",
    "            profession = \"NA\"\n",
    "            trans.roles[name] = [role, profession] #adding to the roles\n",
    "        elif re.search(r'ki .*-ta\\s*\\n#lem: ki\\[place\\]; PN', line):\n",
    "            txt,translit = line.split(\"\\n\")\n",
    "            translit = translit.replace(\"#lem: \",\"\")\n",
    "            translit, txt = translit.split(\";\"), txt.split(\" \")[1:]\n",
    "            name = txt[translit.index(\" PN\")]\n",
    "            role = \"source\"\n",
    "            profession = \"NA\"\n",
    "            trans.roles[name] = [role, profession] #adding to the roles\n",
    "print(\"finished\")\n",
    "            \n",
    "    \n",
    "        "
   ]
  },
  {
   "cell_type": "code",
   "execution_count": 12,
   "metadata": {},
   "outputs": [
    {
     "name": "stdout",
     "output_type": "stream",
     "text": [
      "829\n"
     ]
    }
   ],
   "source": [
    "count=0\n",
    "ls = []\n",
    "for trans in complete_transaction_ls:\n",
    "    if len(trans.roles) == 2 and [\"source\", \"NA\"] in trans.roles.values() and [\"reciever\",\"NA\"] in trans.roles.values():\n",
    "#         print (trans.roles)\n",
    "        for name,[role,profession] in trans.roles.items():\n",
    "            ls+=[[name, role, profession, trans.p_index]]\n",
    "        count+=1\n",
    "print(count)"
   ]
  },
  {
   "cell_type": "markdown",
   "metadata": {},
   "source": [
    "##### really rough node list"
   ]
  },
  {
   "cell_type": "code",
   "execution_count": 13,
   "metadata": {
    "scrolled": false
   },
   "outputs": [],
   "source": [
    "df = pd.DataFrame(data=ls)\n",
    "df.index += 1\n",
    "df.columns =[\"name\", \"role\", \"profession\", \"p_index\"]\n",
    "df\n",
    "df.to_csv('nodes.csv')"
   ]
  },
  {
   "cell_type": "markdown",
   "metadata": {},
   "source": [
    "# To do:\n",
    "1. look at the next line of PN, too. For example, su ba-ti can be in the next line.\n",
    "2. what are some important words? Make a list of roles, professions. HELP...\n",
    "3. How to look for them. see patterns?"
   ]
  },
  {
   "cell_type": "markdown",
   "metadata": {},
   "source": [
    "# Think about:\n",
    "1. how to efficiently categorize commodities (animals, dead animals, leather, precious stuff)"
   ]
  },
  {
   "cell_type": "markdown",
   "metadata": {
    "collapsed": true
   },
   "source": []
  }
 ],
 "metadata": {
  "anaconda-cloud": {},
  "kernelspec": {
   "display_name": "Python 3",
   "language": "python",
   "name": "python3"
  },
  "language_info": {
   "codemirror_mode": {
    "name": "ipython",
    "version": 3
   },
   "file_extension": ".py",
   "mimetype": "text/x-python",
   "name": "python",
   "nbconvert_exporter": "python",
   "pygments_lexer": "ipython3",
   "version": "3.6.2"
  }
 },
 "nbformat": 4,
 "nbformat_minor": 2
}
